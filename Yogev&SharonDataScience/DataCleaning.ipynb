{
 "cells": [
  {
   "cell_type": "code",
   "execution_count": 2,
   "id": "91b684d6",
   "metadata": {},
   "outputs": [],
   "source": [
    "import pandas as pd"
   ]
  },
  {
   "cell_type": "code",
   "execution_count": 3,
   "id": "254e7c2d",
   "metadata": {},
   "outputs": [],
   "source": [
    "# Load the DataFrame\n",
    "df = pd.read_csv('data/hotels.csv')"
   ]
  },
  {
   "cell_type": "markdown",
   "id": "35f6964d",
   "metadata": {},
   "source": [
    "# Breakfast"
   ]
  },
  {
   "cell_type": "code",
   "execution_count": 4,
   "id": "0066f5fd",
   "metadata": {},
   "outputs": [
    {
     "data": {
      "text/plain": [
       "Breakfast included             239\n",
       "Breakfast & dinner included      5\n",
       "All-inclusive                    5\n",
       "Name: Breakfast, dtype: int64"
      ]
     },
     "execution_count": 4,
     "metadata": {},
     "output_type": "execute_result"
    }
   ],
   "source": [
    "# We can see that there are some overlap\n",
    "df.Breakfast.value_counts()"
   ]
  },
  {
   "cell_type": "code",
   "execution_count": 5,
   "id": "e6397a5b",
   "metadata": {},
   "outputs": [],
   "source": [
    "BreakfastReplacmentDict = {'Breakfast included': 1, 'Breakfast & dinner included': 2, 'All-inclusive': 3, 'All meals included': 3}\n",
    "df.Breakfast = df.Breakfast.map(BreakfastReplacmentDict)"
   ]
  },
  {
   "cell_type": "code",
   "execution_count": 6,
   "id": "c4417471",
   "metadata": {},
   "outputs": [
    {
     "name": "stdout",
     "output_type": "stream",
     "text": [
      "<class 'pandas.core.series.Series'>\n",
      "RangeIndex: 4200 entries, 0 to 4199\n",
      "Series name: Breakfast\n",
      "Non-Null Count  Dtype  \n",
      "--------------  -----  \n",
      "249 non-null    float64\n",
      "dtypes: float64(1)\n",
      "memory usage: 32.9 KB\n"
     ]
    }
   ],
   "source": [
    "# There are some Nan values, most likelytheir meaning is no meals at all\n",
    "df.Breakfast.info()"
   ]
  },
  {
   "cell_type": "code",
   "execution_count": 7,
   "id": "949f2725",
   "metadata": {},
   "outputs": [],
   "source": [
    "df.Breakfast.fillna(0, inplace=True)\n",
    "df.Breakfast = df.Breakfast.astype(int)"
   ]
  },
  {
   "cell_type": "code",
   "execution_count": 8,
   "id": "23a481a9",
   "metadata": {},
   "outputs": [
    {
     "data": {
      "text/plain": [
       "0    3951\n",
       "1     239\n",
       "2       5\n",
       "3       5\n",
       "Name: Breakfast, dtype: int64"
      ]
     },
     "execution_count": 8,
     "metadata": {},
     "output_type": "execute_result"
    }
   ],
   "source": [
    "df.Breakfast.value_counts()"
   ]
  },
  {
   "cell_type": "markdown",
   "id": "58bdc09a",
   "metadata": {},
   "source": [
    "# BookingScore"
   ]
  },
  {
   "cell_type": "code",
   "execution_count": 9,
   "id": "1f01863b",
   "metadata": {},
   "outputs": [
    {
     "data": {
      "text/plain": [
       "3 out of 5    1563\n",
       "4 out of 5     764\n",
       "5 out of 5      24\n",
       "2 out of 5       1\n",
       "Name: BookingScore, dtype: int64"
      ]
     },
     "execution_count": 9,
     "metadata": {},
     "output_type": "execute_result"
    }
   ],
   "source": [
    "# Change to numeric value\n",
    "df.BookingScore.value_counts()"
   ]
  },
  {
   "cell_type": "code",
   "execution_count": 10,
   "id": "43fd681a",
   "metadata": {},
   "outputs": [],
   "source": [
    "BookingScoreReplacmentDict = {'1 out of 5': 1, '2 out of 5': 2, '3 out of 5': 3, '4 out of 5': 4, '5 out of 5': 5}\n",
    "df.BookingScore = df.BookingScore.map(BookingScoreReplacmentDict)"
   ]
  },
  {
   "cell_type": "code",
   "execution_count": 11,
   "id": "98ae4d09",
   "metadata": {},
   "outputs": [
    {
     "data": {
      "text/plain": [
       "0    1848\n",
       "3    1563\n",
       "4     764\n",
       "5      24\n",
       "2       1\n",
       "Name: BookingScore, dtype: int64"
      ]
     },
     "execution_count": 11,
     "metadata": {},
     "output_type": "execute_result"
    }
   ],
   "source": [
    "# There are some Nan value, we assume that the meaning is 0 stars\n",
    "df.BookingScore.fillna(0, inplace=True)\n",
    "df.BookingScore = df.BookingScore.astype(int)\n",
    "df.BookingScore.value_counts()"
   ]
  },
  {
   "cell_type": "markdown",
   "id": "f5d25de6",
   "metadata": {},
   "source": [
    "# BookingAward"
   ]
  },
  {
   "cell_type": "code",
   "execution_count": 12,
   "id": "b5a5c98b",
   "metadata": {},
   "outputs": [
    {
     "name": "stdout",
     "output_type": "stream",
     "text": [
      "<class 'pandas.core.series.Series'>\n",
      "RangeIndex: 4200 entries, 0 to 4199\n",
      "Series name: BookingAward\n",
      "Non-Null Count  Dtype \n",
      "--------------  ----- \n",
      "4200 non-null   object\n",
      "dtypes: object(1)\n",
      "memory usage: 32.9+ KB\n"
     ]
    }
   ],
   "source": [
    "df.BookingAward.info()"
   ]
  },
  {
   "cell_type": "code",
   "execution_count": 13,
   "id": "a58b8e4e",
   "metadata": {},
   "outputs": [],
   "source": [
    "# There are no Nan value, only replave to numeric needed (משתנה בדיד ללא חשיבות לסדר)\n",
    "BookingAwardReplacmentDict = {'Not Owned': 0,'Owned': 1}\n",
    "df.BookingAward = df.BookingAward.map(BookingAwardReplacmentDict)"
   ]
  },
  {
   "cell_type": "markdown",
   "id": "d49ecddd",
   "metadata": {},
   "source": [
    "# Cancelation"
   ]
  },
  {
   "cell_type": "code",
   "execution_count": 14,
   "id": "9867ec31",
   "metadata": {},
   "outputs": [
    {
     "data": {
      "text/plain": [
       "Free cancellation                           1373\n",
       "FREE cancellation • No prepayment needed     806\n",
       "Name: Cancelation, dtype: int64"
      ]
     },
     "execution_count": 14,
     "metadata": {},
     "output_type": "execute_result"
    }
   ],
   "source": [
    "df.Cancelation.value_counts()"
   ]
  },
  {
   "cell_type": "code",
   "execution_count": 15,
   "id": "8eee1d8a",
   "metadata": {},
   "outputs": [],
   "source": [
    "CancelationReplacmentDict = {'FREE cancellation • No prepayment needed': 1, 'Free cancellation': 2}\n",
    "df.Cancelation = df.Cancelation.map(CancelationReplacmentDict)"
   ]
  },
  {
   "cell_type": "code",
   "execution_count": 16,
   "id": "9cc02811",
   "metadata": {},
   "outputs": [
    {
     "data": {
      "text/plain": [
       "0    2021\n",
       "2    1373\n",
       "1     806\n",
       "Name: Cancelation, dtype: int64"
      ]
     },
     "execution_count": 16,
     "metadata": {},
     "output_type": "execute_result"
    }
   ],
   "source": [
    "# There are some Nan value, we assume that the meaning is No cancelation allowed\n",
    "df.Cancelation.fillna(0, inplace=True)\n",
    "df.Cancelation = df.Cancelation.astype(int)\n",
    "df.Cancelation.value_counts()"
   ]
  },
  {
   "cell_type": "markdown",
   "id": "54210fde",
   "metadata": {},
   "source": [
    "# LocationScore"
   ]
  },
  {
   "cell_type": "code",
   "execution_count": 17,
   "id": "8cbc2e38",
   "metadata": {},
   "outputs": [
    {
     "name": "stdout",
     "output_type": "stream",
     "text": [
      "<class 'pandas.core.series.Series'>\n",
      "RangeIndex: 4200 entries, 0 to 4199\n",
      "Series name: LocationScore\n",
      "Non-Null Count  Dtype \n",
      "--------------  ----- \n",
      "2079 non-null   object\n",
      "dtypes: object(1)\n",
      "memory usage: 32.9+ KB\n"
     ]
    }
   ],
   "source": [
    "df.LocationScore.info()"
   ]
  },
  {
   "cell_type": "code",
   "execution_count": 18,
   "id": "62a26415",
   "metadata": {},
   "outputs": [
    {
     "data": {
      "text/plain": [
       "10.0    685\n",
       "9.4     436\n",
       "9.6     343\n",
       "9.5     225\n",
       "9.7     180\n",
       "9.3     175\n",
       "9.8      31\n",
       "9.9       4\n",
       "Name: LocationScore, dtype: int64"
      ]
     },
     "execution_count": 18,
     "metadata": {},
     "output_type": "execute_result"
    }
   ],
   "source": [
    "# we want to change it from object type float type, so first we had to delete \"Location \"\n",
    "df.LocationScore = df.LocationScore.str.replace(\"Location \", \"\") \n",
    "df.LocationScore = df.LocationScore.astype(float)\n",
    "df.LocationScore.value_counts()"
   ]
  },
  {
   "cell_type": "code",
   "execution_count": 19,
   "id": "ee6c6c4d",
   "metadata": {},
   "outputs": [
    {
     "data": {
      "text/plain": [
       "9.6     2464\n",
       "10.0     685\n",
       "9.4      436\n",
       "9.5      225\n",
       "9.7      180\n",
       "9.3      175\n",
       "9.8       31\n",
       "9.9        4\n",
       "Name: LocationScore, dtype: int64"
      ]
     },
     "execution_count": 19,
     "metadata": {},
     "output_type": "execute_result"
    }
   ],
   "source": [
    "# We assume Nan ment hotel with no Location score filled up yet,\n",
    "# and we didnt want to effect the data distrabution so we use median insted\n",
    "df.LocationScore.fillna(df.LocationScore.median(), inplace=True)\n",
    "df.LocationScore.value_counts()"
   ]
  },
  {
   "cell_type": "markdown",
   "id": "5ab3906b",
   "metadata": {},
   "source": [
    "# Review"
   ]
  },
  {
   "cell_type": "code",
   "execution_count": 20,
   "id": "3b817ef5",
   "metadata": {},
   "outputs": [
    {
     "data": {
      "text/plain": [
       "array(['21 reviews', '157 reviews', '109 reviews', '76 reviews',\n",
       "       '715 reviews', '219 reviews', '44 reviews', '54 reviews',\n",
       "       '3,031 reviews', '4 reviews', '214 reviews', '264 reviews',\n",
       "       '1,376 reviews', '2,014 reviews', '831 reviews', '804 reviews',\n",
       "       '213 reviews', '696 reviews', '2,643 reviews', '347 reviews',\n",
       "       '496 reviews', '63 reviews', '571 reviews', '472 reviews',\n",
       "       '298 reviews', '1,224 reviews', '401 reviews', '271 reviews',\n",
       "       '1,502 reviews', '1,627 reviews', '386 reviews', '209 reviews',\n",
       "       '445 reviews', '134 reviews', '53 reviews', '1,125 reviews',\n",
       "       '59 reviews', '803 reviews', '165 reviews', '660 reviews',\n",
       "       '1,039 reviews', '1,419 reviews', '371 reviews', '112 reviews',\n",
       "       '99 reviews', '1,623 reviews', '273 reviews', '883 reviews',\n",
       "       '878 reviews', '889 reviews', '30 reviews', '1,620 reviews',\n",
       "       '1,467 reviews', '2,429 reviews', '1,457 reviews', '13 reviews',\n",
       "       '125 reviews', '3,442 reviews', '1,451 reviews', '190 reviews',\n",
       "       '1,912 reviews', '742 reviews', '380 reviews', '1,848 reviews',\n",
       "       '471 reviews', '1,595 reviews', '254 reviews', '747 reviews',\n",
       "       '652 reviews', '117 reviews', '547 reviews', '1,573 reviews',\n",
       "       '1,892 reviews', '1,266 reviews', '40 reviews', '852 reviews',\n",
       "       '1,004 reviews', '1,354 reviews', '760 reviews', '359 reviews',\n",
       "       '64 reviews', '1,227 reviews', '1,001 reviews', '130 reviews',\n",
       "       '777 reviews', '680 reviews', '5 reviews', '1,904 reviews',\n",
       "       '121 reviews', '25 reviews', '1,040 reviews', '546 reviews',\n",
       "       '1,052 reviews', '104 reviews', '911 reviews', '327 reviews',\n",
       "       '647 reviews', '95 reviews', '56 reviews', '495 reviews',\n",
       "       '900 reviews', '19 reviews', nan, '113 reviews', '173 reviews',\n",
       "       '2,196 reviews', '678 reviews', '789 reviews', '1,465 reviews',\n",
       "       '1,213 reviews', '122 reviews', '18 reviews', '133 reviews',\n",
       "       '187 reviews', '26 reviews', '2,175 reviews', '289 reviews',\n",
       "       '1,092 reviews', '1,002 reviews', '297 reviews', '1,648 reviews',\n",
       "       '618 reviews', '1,505 reviews', '1,211 reviews', '115 reviews',\n",
       "       '83 reviews', '120 reviews', '3,112 reviews', '255 reviews',\n",
       "       '963 reviews', '353 reviews', '648 reviews', '631 reviews',\n",
       "       '378 reviews', '48 reviews', '465 reviews', '158 reviews',\n",
       "       '145 reviews', '91 reviews', '34 reviews', '542 reviews',\n",
       "       '479 reviews', '132 reviews', '607 reviews', '891 reviews',\n",
       "       '1,053 reviews', '228 reviews', '482 reviews', '1 review',\n",
       "       '675 reviews', '1,089 reviews', '139 reviews', '151 reviews',\n",
       "       '314 reviews', '1,074 reviews', '849 reviews', '57 reviews',\n",
       "       '80 reviews', '993 reviews', '147 reviews', '35 reviews',\n",
       "       '1,204 reviews', '614 reviews', '368 reviews', '602 reviews',\n",
       "       '1,329 reviews', '1,256 reviews', '32 reviews', '568 reviews',\n",
       "       '346 reviews', '1,081 reviews', '1,544 reviews', '352 reviews',\n",
       "       '703 reviews', '775 reviews', '60 reviews', '917 reviews',\n",
       "       '84 reviews', '282 reviews', '370 reviews', '160 reviews',\n",
       "       '126 reviews', '2,209 reviews', '574 reviews', '116 reviews',\n",
       "       '351 reviews', '1,308 reviews', '97 reviews', '538 reviews',\n",
       "       '79 reviews', '892 reviews', '70 reviews', '3 reviews',\n",
       "       '37 reviews', '763 reviews', '183 reviews', '2,630 reviews',\n",
       "       '922 reviews', '1,668 reviews', '239 reviews', '324 reviews',\n",
       "       '208 reviews', '224 reviews', '251 reviews', '107 reviews',\n",
       "       '135 reviews', '249 reviews', '14 reviews', '4,143 reviews',\n",
       "       '250 reviews', '39 reviews', '415 reviews', '1,914 reviews',\n",
       "       '8 reviews', '1,381 reviews', '519 reviews', '41 reviews',\n",
       "       '210 reviews', '2,085 reviews', '741 reviews', '843 reviews',\n",
       "       '144 reviews', '1,794 reviews', '738 reviews',\n",
       "       '4 external reviews', '93 reviews', '175 reviews', '498 reviews',\n",
       "       '274 reviews', '501 reviews', '94 reviews', '668 reviews',\n",
       "       '601 reviews', '466 reviews', '74 reviews', '245 reviews',\n",
       "       '847 reviews', '2,760 reviews', '469 reviews', '36 reviews',\n",
       "       '691 reviews', '152 reviews', '303 reviews', '240 reviews',\n",
       "       '403 reviews', '1,005 reviews', '745 reviews', '994 reviews',\n",
       "       '191 reviews', '470 reviews', '526 reviews', '143 reviews',\n",
       "       '441 reviews', '2,399 reviews', '108 reviews', '2 reviews',\n",
       "       '345 reviews', '893 reviews', '241 reviews', '536 reviews',\n",
       "       '29 reviews', '169 reviews', '333 reviews', '460 reviews',\n",
       "       '357 reviews', '10 reviews', '211 reviews', '11 reviews',\n",
       "       '88 reviews', '336 reviews', '42 reviews', '17 reviews',\n",
       "       '77 reviews', '6 reviews', '1,021 reviews', '766 reviews',\n",
       "       '114 reviews', '841 reviews', '450 reviews', '587 reviews',\n",
       "       '955 reviews', '207 reviews', '566 reviews', '373 reviews',\n",
       "       '636 reviews', '372 reviews', '1,189 reviews', '220 reviews',\n",
       "       '16 reviews', '12 reviews', '369 reviews', '839 reviews',\n",
       "       '85 reviews', '141 reviews', '27 reviews', '43 reviews',\n",
       "       '20 reviews', '62 reviews', '596 reviews', '129 reviews',\n",
       "       '1,025 reviews', '1,653 reviews', '31 reviews', '146 reviews',\n",
       "       '15 reviews', '38 reviews', '281 reviews', '98 reviews',\n",
       "       '279 reviews', '128 reviews', '1,108 reviews', '9 reviews',\n",
       "       '7 reviews', '45 reviews', '65 reviews', '81 reviews',\n",
       "       '950 reviews', '55 reviews', '71 reviews', '564 reviews',\n",
       "       '517 reviews', '487 reviews', '518 reviews', '58 reviews',\n",
       "       '658 reviews', '67 reviews', '408 reviews', '203 reviews',\n",
       "       '33 reviews', '230 reviews', '22 reviews', '338 reviews',\n",
       "       '75 reviews', '1,084 reviews', '28 reviews', '82 reviews',\n",
       "       '101 reviews', '399 reviews', '1,022 reviews', '46 reviews',\n",
       "       '958 reviews', '51 reviews', '310 reviews', '823 reviews',\n",
       "       '23 reviews', '204 reviews', '170 reviews', '110 reviews',\n",
       "       '814 reviews', '78 reviews', '194 reviews', '105 reviews',\n",
       "       '66 reviews', '162 reviews', '186 reviews', '106 reviews',\n",
       "       '379 reviews', '590 reviews', '688 reviews', '584 reviews',\n",
       "       '47 reviews', '248 reviews', '156 reviews', '100 reviews',\n",
       "       '50 reviews', '685 reviews', '174 reviews', '61 reviews',\n",
       "       '68 reviews', '639 reviews', '1,087 reviews', '512 reviews',\n",
       "       '915 reviews', '442 reviews', '257 reviews', '232 reviews',\n",
       "       '136 reviews', '89 reviews', '24 reviews', '246 reviews',\n",
       "       '177 reviews', '620 reviews', '142 reviews', '287 reviews',\n",
       "       '123 reviews', '86 reviews', '103 reviews', '181 reviews',\n",
       "       '410 reviews', '88 external reviews', '609 reviews', '138 reviews',\n",
       "       '473 reviews', '52 reviews', '604 reviews', '137 reviews',\n",
       "       '322 reviews', '308 reviews', '1,029 reviews', '102 reviews',\n",
       "       '341 reviews', '243 reviews', '458 reviews', '258 reviews',\n",
       "       '266 reviews', '488 reviews', '161 reviews', '667 reviews'],\n",
       "      dtype=object)"
      ]
     },
     "execution_count": 20,
     "metadata": {},
     "output_type": "execute_result"
    }
   ],
   "source": [
    "df.Review.unique()"
   ]
  },
  {
   "cell_type": "code",
   "execution_count": 21,
   "id": "fe75c83b",
   "metadata": {},
   "outputs": [
    {
     "name": "stdout",
     "output_type": "stream",
     "text": [
      "<class 'pandas.core.series.Series'>\n",
      "RangeIndex: 4200 entries, 0 to 4199\n",
      "Series name: Review\n",
      "Non-Null Count  Dtype\n",
      "--------------  -----\n",
      "4200 non-null   int32\n",
      "dtypes: int32(1)\n",
      "memory usage: 16.5 KB\n"
     ]
    }
   ],
   "source": [
    "# There is \"review\" suffix, lets get rid from it\n",
    "df.Review = df.Review.str.replace(' reviews', '')\n",
    "df.Review = df.Review.str.replace(' review', '')\n",
    "df.Review = df.Review.str.replace(' external', '')\n",
    "df.Review = df.Review.str.replace(',', '')\n",
    "df.Review.fillna(0, inplace=True)\n",
    "df.Review = df.Review.astype(int)\n",
    "df.Review.info()"
   ]
  },
  {
   "cell_type": "markdown",
   "id": "99db715e",
   "metadata": {},
   "source": [
    "# SalePrice & OriginPrice"
   ]
  },
  {
   "cell_type": "code",
   "execution_count": 22,
   "id": "40106399",
   "metadata": {},
   "outputs": [
    {
     "name": "stdout",
     "output_type": "stream",
     "text": [
      "<class 'pandas.core.series.Series'>\n",
      "RangeIndex: 4200 entries, 0 to 4199\n",
      "Series name: SalePrice\n",
      "Non-Null Count  Dtype \n",
      "--------------  ----- \n",
      "4200 non-null   object\n",
      "dtypes: object(1)\n",
      "memory usage: 32.9+ KB\n",
      "None\n",
      "<class 'pandas.core.series.Series'>\n",
      "RangeIndex: 4200 entries, 0 to 4199\n",
      "Series name: OriginPrice\n",
      "Non-Null Count  Dtype \n",
      "--------------  ----- \n",
      "449 non-null    object\n",
      "dtypes: object(1)\n",
      "memory usage: 32.9+ KB\n",
      "None\n"
     ]
    },
    {
     "data": {
      "text/html": [
       "<div>\n",
       "<style scoped>\n",
       "    .dataframe tbody tr th:only-of-type {\n",
       "        vertical-align: middle;\n",
       "    }\n",
       "\n",
       "    .dataframe tbody tr th {\n",
       "        vertical-align: top;\n",
       "    }\n",
       "\n",
       "    .dataframe thead th {\n",
       "        text-align: right;\n",
       "    }\n",
       "</style>\n",
       "<table border=\"1\" class=\"dataframe\">\n",
       "  <thead>\n",
       "    <tr style=\"text-align: right;\">\n",
       "      <th></th>\n",
       "      <th>Name</th>\n",
       "      <th>Score</th>\n",
       "      <th>ScoreInWord</th>\n",
       "      <th>Review</th>\n",
       "      <th>OriginPrice</th>\n",
       "      <th>SalePrice</th>\n",
       "      <th>Location</th>\n",
       "      <th>LocationScore</th>\n",
       "      <th>Breakfast</th>\n",
       "      <th>BookingAward</th>\n",
       "      <th>BookingScore</th>\n",
       "      <th>Cancelation</th>\n",
       "    </tr>\n",
       "  </thead>\n",
       "  <tbody>\n",
       "    <tr>\n",
       "      <th>0</th>\n",
       "      <td>Superior Studio Vacation House by Stay Eilat -...</td>\n",
       "      <td>7.8</td>\n",
       "      <td>Good</td>\n",
       "      <td>21</td>\n",
       "      <td>₪ 4,936</td>\n",
       "      <td>₪ 2,419</td>\n",
       "      <td>Eilat</td>\n",
       "      <td>9.6</td>\n",
       "      <td>0</td>\n",
       "      <td>0</td>\n",
       "      <td>3</td>\n",
       "      <td>1</td>\n",
       "    </tr>\n",
       "    <tr>\n",
       "      <th>1</th>\n",
       "      <td>La Perle Hotel</td>\n",
       "      <td>7.2</td>\n",
       "      <td>Good</td>\n",
       "      <td>157</td>\n",
       "      <td>₪ 2,200</td>\n",
       "      <td>₪ 2,156</td>\n",
       "      <td>West Jerusalem, Jerusalem</td>\n",
       "      <td>9.4</td>\n",
       "      <td>0</td>\n",
       "      <td>0</td>\n",
       "      <td>0</td>\n",
       "      <td>0</td>\n",
       "    </tr>\n",
       "    <tr>\n",
       "      <th>2</th>\n",
       "      <td>Lago Suites Hotel</td>\n",
       "      <td>5.9</td>\n",
       "      <td>Review score</td>\n",
       "      <td>109</td>\n",
       "      <td>NaN</td>\n",
       "      <td>₪ 2,992</td>\n",
       "      <td>West Jerusalem, Jerusalem</td>\n",
       "      <td>9.6</td>\n",
       "      <td>0</td>\n",
       "      <td>0</td>\n",
       "      <td>0</td>\n",
       "      <td>1</td>\n",
       "    </tr>\n",
       "    <tr>\n",
       "      <th>3</th>\n",
       "      <td>G38 Rental Apartment Building</td>\n",
       "      <td>8.5</td>\n",
       "      <td>Very good</td>\n",
       "      <td>76</td>\n",
       "      <td>NaN</td>\n",
       "      <td>₪ 2,160</td>\n",
       "      <td>Haifa</td>\n",
       "      <td>9.3</td>\n",
       "      <td>0</td>\n",
       "      <td>0</td>\n",
       "      <td>3</td>\n",
       "      <td>0</td>\n",
       "    </tr>\n",
       "    <tr>\n",
       "      <th>4</th>\n",
       "      <td>Amdar Holiday Apartments</td>\n",
       "      <td>7.7</td>\n",
       "      <td>Good</td>\n",
       "      <td>715</td>\n",
       "      <td>NaN</td>\n",
       "      <td>₪ 3,145</td>\n",
       "      <td>Eilat</td>\n",
       "      <td>9.6</td>\n",
       "      <td>0</td>\n",
       "      <td>1</td>\n",
       "      <td>3</td>\n",
       "      <td>1</td>\n",
       "    </tr>\n",
       "  </tbody>\n",
       "</table>\n",
       "</div>"
      ],
      "text/plain": [
       "                                                Name  Score    ScoreInWord  \\\n",
       "0  Superior Studio Vacation House by Stay Eilat -...    7.8          Good    \n",
       "1                                     La Perle Hotel    7.2          Good    \n",
       "2                                  Lago Suites Hotel    5.9  Review score    \n",
       "3                      G38 Rental Apartment Building    8.5     Very good    \n",
       "4                           Amdar Holiday Apartments    7.7          Good    \n",
       "\n",
       "   Review OriginPrice SalePrice                   Location  LocationScore  \\\n",
       "0      21     ₪ 4,936   ₪ 2,419                      Eilat            9.6   \n",
       "1     157     ₪ 2,200   ₪ 2,156  West Jerusalem, Jerusalem            9.4   \n",
       "2     109         NaN   ₪ 2,992  West Jerusalem, Jerusalem            9.6   \n",
       "3      76         NaN   ₪ 2,160                      Haifa            9.3   \n",
       "4     715         NaN   ₪ 3,145                      Eilat            9.6   \n",
       "\n",
       "   Breakfast  BookingAward  BookingScore  Cancelation  \n",
       "0          0             0             3            1  \n",
       "1          0             0             0            0  \n",
       "2          0             0             0            1  \n",
       "3          0             0             3            0  \n",
       "4          0             1             3            1  "
      ]
     },
     "execution_count": 22,
     "metadata": {},
     "output_type": "execute_result"
    }
   ],
   "source": [
    "print(df.SalePrice.info()) # no Nan\n",
    "print(df.OriginPrice.info()) # more then 3000 Nan\n",
    "df.head(5)"
   ]
  },
  {
   "cell_type": "code",
   "execution_count": 23,
   "id": "c1a67fb4",
   "metadata": {},
   "outputs": [],
   "source": [
    "# Nan in \"origin price\" column mean that there is no discount, if we put zero in this will be wrong\n",
    "# so we chane this colums logic to hold the delta price\n",
    "df.rename(columns={'OriginPrice': 'Discount', 'SalePrice': 'Price'}, inplace=True)"
   ]
  },
  {
   "cell_type": "code",
   "execution_count": 24,
   "id": "e3f4dd21",
   "metadata": {},
   "outputs": [
    {
     "data": {
      "text/html": [
       "<div>\n",
       "<style scoped>\n",
       "    .dataframe tbody tr th:only-of-type {\n",
       "        vertical-align: middle;\n",
       "    }\n",
       "\n",
       "    .dataframe tbody tr th {\n",
       "        vertical-align: top;\n",
       "    }\n",
       "\n",
       "    .dataframe thead th {\n",
       "        text-align: right;\n",
       "    }\n",
       "</style>\n",
       "<table border=\"1\" class=\"dataframe\">\n",
       "  <thead>\n",
       "    <tr style=\"text-align: right;\">\n",
       "      <th></th>\n",
       "      <th>Name</th>\n",
       "      <th>Score</th>\n",
       "      <th>ScoreInWord</th>\n",
       "      <th>Review</th>\n",
       "      <th>Discount</th>\n",
       "      <th>Price</th>\n",
       "      <th>Location</th>\n",
       "      <th>LocationScore</th>\n",
       "      <th>Breakfast</th>\n",
       "      <th>BookingAward</th>\n",
       "      <th>BookingScore</th>\n",
       "      <th>Cancelation</th>\n",
       "    </tr>\n",
       "  </thead>\n",
       "  <tbody>\n",
       "    <tr>\n",
       "      <th>0</th>\n",
       "      <td>Superior Studio Vacation House by Stay Eilat -...</td>\n",
       "      <td>7.8</td>\n",
       "      <td>Good</td>\n",
       "      <td>21</td>\n",
       "      <td>4936</td>\n",
       "      <td>2419</td>\n",
       "      <td>Eilat</td>\n",
       "      <td>9.6</td>\n",
       "      <td>0</td>\n",
       "      <td>0</td>\n",
       "      <td>3</td>\n",
       "      <td>1</td>\n",
       "    </tr>\n",
       "    <tr>\n",
       "      <th>1</th>\n",
       "      <td>La Perle Hotel</td>\n",
       "      <td>7.2</td>\n",
       "      <td>Good</td>\n",
       "      <td>157</td>\n",
       "      <td>2200</td>\n",
       "      <td>2156</td>\n",
       "      <td>West Jerusalem, Jerusalem</td>\n",
       "      <td>9.4</td>\n",
       "      <td>0</td>\n",
       "      <td>0</td>\n",
       "      <td>0</td>\n",
       "      <td>0</td>\n",
       "    </tr>\n",
       "    <tr>\n",
       "      <th>2</th>\n",
       "      <td>Lago Suites Hotel</td>\n",
       "      <td>5.9</td>\n",
       "      <td>Review score</td>\n",
       "      <td>109</td>\n",
       "      <td>0</td>\n",
       "      <td>2992</td>\n",
       "      <td>West Jerusalem, Jerusalem</td>\n",
       "      <td>9.6</td>\n",
       "      <td>0</td>\n",
       "      <td>0</td>\n",
       "      <td>0</td>\n",
       "      <td>1</td>\n",
       "    </tr>\n",
       "    <tr>\n",
       "      <th>3</th>\n",
       "      <td>G38 Rental Apartment Building</td>\n",
       "      <td>8.5</td>\n",
       "      <td>Very good</td>\n",
       "      <td>76</td>\n",
       "      <td>0</td>\n",
       "      <td>2160</td>\n",
       "      <td>Haifa</td>\n",
       "      <td>9.3</td>\n",
       "      <td>0</td>\n",
       "      <td>0</td>\n",
       "      <td>3</td>\n",
       "      <td>0</td>\n",
       "    </tr>\n",
       "    <tr>\n",
       "      <th>4</th>\n",
       "      <td>Amdar Holiday Apartments</td>\n",
       "      <td>7.7</td>\n",
       "      <td>Good</td>\n",
       "      <td>715</td>\n",
       "      <td>0</td>\n",
       "      <td>3145</td>\n",
       "      <td>Eilat</td>\n",
       "      <td>9.6</td>\n",
       "      <td>0</td>\n",
       "      <td>1</td>\n",
       "      <td>3</td>\n",
       "      <td>1</td>\n",
       "    </tr>\n",
       "  </tbody>\n",
       "</table>\n",
       "</div>"
      ],
      "text/plain": [
       "                                                Name  Score    ScoreInWord  \\\n",
       "0  Superior Studio Vacation House by Stay Eilat -...    7.8          Good    \n",
       "1                                     La Perle Hotel    7.2          Good    \n",
       "2                                  Lago Suites Hotel    5.9  Review score    \n",
       "3                      G38 Rental Apartment Building    8.5     Very good    \n",
       "4                           Amdar Holiday Apartments    7.7          Good    \n",
       "\n",
       "   Review  Discount  Price                   Location  LocationScore  \\\n",
       "0      21      4936   2419                      Eilat            9.6   \n",
       "1     157      2200   2156  West Jerusalem, Jerusalem            9.4   \n",
       "2     109         0   2992  West Jerusalem, Jerusalem            9.6   \n",
       "3      76         0   2160                      Haifa            9.3   \n",
       "4     715         0   3145                      Eilat            9.6   \n",
       "\n",
       "   Breakfast  BookingAward  BookingScore  Cancelation  \n",
       "0          0             0             3            1  \n",
       "1          0             0             0            0  \n",
       "2          0             0             0            1  \n",
       "3          0             0             3            0  \n",
       "4          0             1             3            1  "
      ]
     },
     "execution_count": 24,
     "metadata": {},
     "output_type": "execute_result"
    }
   ],
   "source": [
    "# Handle Nan nan and some unwanted text\n",
    "df.Discount = df.Discount.str.replace('₪\\xa0', '')\n",
    "df.Discount = df.Discount.str.replace(',', '')\n",
    "df.Price = df.Price.str.replace('₪\\xa0', '')\n",
    "df.Price = df.Price.str.replace(',', '')\n",
    "df.Discount.fillna(0, inplace=True)\n",
    "df.Price.fillna(0, inplace=True)\n",
    "df.Price = df.Price.astype(int)\n",
    "df.Discount = df.Discount.astype(int)"
   ]
  },
  {
   "cell_type": "code",
   "execution_count": 25,
   "id": "e97529ed",
   "metadata": {},
   "outputs": [
    {
     "data": {
      "text/html": [
       "<div>\n",
       "<style scoped>\n",
       "    .dataframe tbody tr th:only-of-type {\n",
       "        vertical-align: middle;\n",
       "    }\n",
       "\n",
       "    .dataframe tbody tr th {\n",
       "        vertical-align: top;\n",
       "    }\n",
       "\n",
       "    .dataframe thead th {\n",
       "        text-align: right;\n",
       "    }\n",
       "</style>\n",
       "<table border=\"1\" class=\"dataframe\">\n",
       "  <thead>\n",
       "    <tr style=\"text-align: right;\">\n",
       "      <th></th>\n",
       "      <th>Name</th>\n",
       "      <th>Score</th>\n",
       "      <th>ScoreInWord</th>\n",
       "      <th>Review</th>\n",
       "      <th>Discount</th>\n",
       "      <th>Price</th>\n",
       "      <th>Location</th>\n",
       "      <th>LocationScore</th>\n",
       "      <th>Breakfast</th>\n",
       "      <th>BookingAward</th>\n",
       "      <th>BookingScore</th>\n",
       "      <th>Cancelation</th>\n",
       "    </tr>\n",
       "  </thead>\n",
       "  <tbody>\n",
       "    <tr>\n",
       "      <th>0</th>\n",
       "      <td>Superior Studio Vacation House by Stay Eilat -...</td>\n",
       "      <td>7.8</td>\n",
       "      <td>Good</td>\n",
       "      <td>21</td>\n",
       "      <td>4936</td>\n",
       "      <td>2419</td>\n",
       "      <td>Eilat</td>\n",
       "      <td>9.6</td>\n",
       "      <td>0</td>\n",
       "      <td>0</td>\n",
       "      <td>3</td>\n",
       "      <td>1</td>\n",
       "    </tr>\n",
       "    <tr>\n",
       "      <th>1</th>\n",
       "      <td>La Perle Hotel</td>\n",
       "      <td>7.2</td>\n",
       "      <td>Good</td>\n",
       "      <td>157</td>\n",
       "      <td>2200</td>\n",
       "      <td>2156</td>\n",
       "      <td>West Jerusalem, Jerusalem</td>\n",
       "      <td>9.4</td>\n",
       "      <td>0</td>\n",
       "      <td>0</td>\n",
       "      <td>0</td>\n",
       "      <td>0</td>\n",
       "    </tr>\n",
       "    <tr>\n",
       "      <th>2</th>\n",
       "      <td>Lago Suites Hotel</td>\n",
       "      <td>5.9</td>\n",
       "      <td>Review score</td>\n",
       "      <td>109</td>\n",
       "      <td>0</td>\n",
       "      <td>2992</td>\n",
       "      <td>West Jerusalem, Jerusalem</td>\n",
       "      <td>9.6</td>\n",
       "      <td>0</td>\n",
       "      <td>0</td>\n",
       "      <td>0</td>\n",
       "      <td>1</td>\n",
       "    </tr>\n",
       "    <tr>\n",
       "      <th>3</th>\n",
       "      <td>G38 Rental Apartment Building</td>\n",
       "      <td>8.5</td>\n",
       "      <td>Very good</td>\n",
       "      <td>76</td>\n",
       "      <td>0</td>\n",
       "      <td>2160</td>\n",
       "      <td>Haifa</td>\n",
       "      <td>9.3</td>\n",
       "      <td>0</td>\n",
       "      <td>0</td>\n",
       "      <td>3</td>\n",
       "      <td>0</td>\n",
       "    </tr>\n",
       "    <tr>\n",
       "      <th>4</th>\n",
       "      <td>Amdar Holiday Apartments</td>\n",
       "      <td>7.7</td>\n",
       "      <td>Good</td>\n",
       "      <td>715</td>\n",
       "      <td>0</td>\n",
       "      <td>3145</td>\n",
       "      <td>Eilat</td>\n",
       "      <td>9.6</td>\n",
       "      <td>0</td>\n",
       "      <td>1</td>\n",
       "      <td>3</td>\n",
       "      <td>1</td>\n",
       "    </tr>\n",
       "  </tbody>\n",
       "</table>\n",
       "</div>"
      ],
      "text/plain": [
       "                                                Name  Score    ScoreInWord  \\\n",
       "0  Superior Studio Vacation House by Stay Eilat -...    7.8          Good    \n",
       "1                                     La Perle Hotel    7.2          Good    \n",
       "2                                  Lago Suites Hotel    5.9  Review score    \n",
       "3                      G38 Rental Apartment Building    8.5     Very good    \n",
       "4                           Amdar Holiday Apartments    7.7          Good    \n",
       "\n",
       "   Review  Discount  Price                   Location  LocationScore  \\\n",
       "0      21      4936   2419                      Eilat            9.6   \n",
       "1     157      2200   2156  West Jerusalem, Jerusalem            9.4   \n",
       "2     109         0   2992  West Jerusalem, Jerusalem            9.6   \n",
       "3      76         0   2160                      Haifa            9.3   \n",
       "4     715         0   3145                      Eilat            9.6   \n",
       "\n",
       "   Breakfast  BookingAward  BookingScore  Cancelation  \n",
       "0          0             0             3            1  \n",
       "1          0             0             0            0  \n",
       "2          0             0             0            1  \n",
       "3          0             0             3            0  \n",
       "4          0             1             3            1  "
      ]
     },
     "execution_count": 25,
     "metadata": {},
     "output_type": "execute_result"
    }
   ],
   "source": [
    "df.head(5)"
   ]
  },
  {
   "cell_type": "code",
   "execution_count": null,
   "id": "57b65407",
   "metadata": {},
   "outputs": [],
   "source": []
  },
  {
   "cell_type": "code",
   "execution_count": null,
   "id": "9926a7d3",
   "metadata": {},
   "outputs": [],
   "source": []
  },
  {
   "cell_type": "code",
   "execution_count": null,
   "id": "c35e26bd",
   "metadata": {},
   "outputs": [],
   "source": []
  },
  {
   "cell_type": "code",
   "execution_count": null,
   "id": "fdd82a35",
   "metadata": {},
   "outputs": [],
   "source": []
  },
  {
   "cell_type": "code",
   "execution_count": 24,
   "id": "b71b3322",
   "metadata": {},
   "outputs": [
    {
     "data": {
      "text/html": [
       "<div>\n",
       "<style scoped>\n",
       "    .dataframe tbody tr th:only-of-type {\n",
       "        vertical-align: middle;\n",
       "    }\n",
       "\n",
       "    .dataframe tbody tr th {\n",
       "        vertical-align: top;\n",
       "    }\n",
       "\n",
       "    .dataframe thead th {\n",
       "        text-align: right;\n",
       "    }\n",
       "</style>\n",
       "<table border=\"1\" class=\"dataframe\">\n",
       "  <thead>\n",
       "    <tr style=\"text-align: right;\">\n",
       "      <th></th>\n",
       "      <th>Name</th>\n",
       "      <th>Score</th>\n",
       "      <th>ScoreInWord</th>\n",
       "      <th>Review</th>\n",
       "      <th>Discount</th>\n",
       "      <th>Price</th>\n",
       "      <th>Location</th>\n",
       "      <th>LocationScore</th>\n",
       "      <th>Breakfast</th>\n",
       "      <th>BookingAward</th>\n",
       "      <th>BookingScore</th>\n",
       "      <th>Cancelation</th>\n",
       "    </tr>\n",
       "  </thead>\n",
       "  <tbody>\n",
       "    <tr>\n",
       "      <th>0</th>\n",
       "      <td>Superior Studio Vacation House by Stay Eilat -...</td>\n",
       "      <td>7.8</td>\n",
       "      <td>Good</td>\n",
       "      <td>21</td>\n",
       "      <td>2517</td>\n",
       "      <td>2419</td>\n",
       "      <td>Eilat</td>\n",
       "      <td>9.6</td>\n",
       "      <td>0</td>\n",
       "      <td>0</td>\n",
       "      <td>3</td>\n",
       "      <td>1</td>\n",
       "    </tr>\n",
       "    <tr>\n",
       "      <th>1</th>\n",
       "      <td>La Perle Hotel</td>\n",
       "      <td>7.2</td>\n",
       "      <td>Good</td>\n",
       "      <td>157</td>\n",
       "      <td>44</td>\n",
       "      <td>2156</td>\n",
       "      <td>West Jerusalem, Jerusalem</td>\n",
       "      <td>9.4</td>\n",
       "      <td>0</td>\n",
       "      <td>0</td>\n",
       "      <td>0</td>\n",
       "      <td>0</td>\n",
       "    </tr>\n",
       "    <tr>\n",
       "      <th>2</th>\n",
       "      <td>Lago Suites Hotel</td>\n",
       "      <td>5.9</td>\n",
       "      <td>Review score</td>\n",
       "      <td>109</td>\n",
       "      <td>0</td>\n",
       "      <td>2992</td>\n",
       "      <td>West Jerusalem, Jerusalem</td>\n",
       "      <td>9.6</td>\n",
       "      <td>0</td>\n",
       "      <td>0</td>\n",
       "      <td>0</td>\n",
       "      <td>1</td>\n",
       "    </tr>\n",
       "    <tr>\n",
       "      <th>3</th>\n",
       "      <td>G38 Rental Apartment Building</td>\n",
       "      <td>8.5</td>\n",
       "      <td>Very good</td>\n",
       "      <td>76</td>\n",
       "      <td>0</td>\n",
       "      <td>2160</td>\n",
       "      <td>Haifa</td>\n",
       "      <td>9.3</td>\n",
       "      <td>0</td>\n",
       "      <td>0</td>\n",
       "      <td>3</td>\n",
       "      <td>0</td>\n",
       "    </tr>\n",
       "    <tr>\n",
       "      <th>4</th>\n",
       "      <td>Amdar Holiday Apartments</td>\n",
       "      <td>7.7</td>\n",
       "      <td>Good</td>\n",
       "      <td>715</td>\n",
       "      <td>0</td>\n",
       "      <td>3145</td>\n",
       "      <td>Eilat</td>\n",
       "      <td>9.6</td>\n",
       "      <td>0</td>\n",
       "      <td>1</td>\n",
       "      <td>3</td>\n",
       "      <td>1</td>\n",
       "    </tr>\n",
       "  </tbody>\n",
       "</table>\n",
       "</div>"
      ],
      "text/plain": [
       "                                                Name  Score    ScoreInWord  \\\n",
       "0  Superior Studio Vacation House by Stay Eilat -...    7.8          Good    \n",
       "1                                     La Perle Hotel    7.2          Good    \n",
       "2                                  Lago Suites Hotel    5.9  Review score    \n",
       "3                      G38 Rental Apartment Building    8.5     Very good    \n",
       "4                           Amdar Holiday Apartments    7.7          Good    \n",
       "\n",
       "   Review  Discount  Price                   Location  LocationScore  \\\n",
       "0      21      2517   2419                      Eilat            9.6   \n",
       "1     157        44   2156  West Jerusalem, Jerusalem            9.4   \n",
       "2     109         0   2992  West Jerusalem, Jerusalem            9.6   \n",
       "3      76         0   2160                      Haifa            9.3   \n",
       "4     715         0   3145                      Eilat            9.6   \n",
       "\n",
       "   Breakfast  BookingAward  BookingScore  Cancelation  \n",
       "0          0             0             3            1  \n",
       "1          0             0             0            0  \n",
       "2          0             0             0            1  \n",
       "3          0             0             3            0  \n",
       "4          0             1             3            1  "
      ]
     },
     "execution_count": 24,
     "metadata": {},
     "output_type": "execute_result"
    }
   ],
   "source": [
    "df.Discount = df.Discount - df.Price\n",
    "df.Discount = df.Discount.where(df.Discount >= 0, 0)\n",
    "df.head(5)"
   ]
  },
  {
   "cell_type": "markdown",
   "id": "0104b817",
   "metadata": {},
   "source": [
    "# Score & ScoreInWord"
   ]
  },
  {
   "cell_type": "code",
   "execution_count": 25,
   "id": "cdaca815",
   "metadata": {},
   "outputs": [
    {
     "data": {
      "text/plain": [
       "array(['Good ', 'Review score ', 'Very good ', 'Superb ', 'Fabulous ',\n",
       "       'Exceptional ', nan, 'Very good 8.0', 'Superb 9.0'], dtype=object)"
      ]
     },
     "execution_count": 25,
     "metadata": {},
     "output_type": "execute_result"
    }
   ],
   "source": [
    "df.ScoreInWord.unique()"
   ]
  },
  {
   "cell_type": "code",
   "execution_count": 26,
   "id": "e77e67db",
   "metadata": {},
   "outputs": [],
   "source": [
    "# There are some nan value in this column. and we dont have any idea howw to estimate hotel score.\n",
    "# so we will just drop them\n",
    "df.dropna(subset = ['Score'], inplace=True)"
   ]
  },
  {
   "cell_type": "markdown",
   "id": "83bddb91",
   "metadata": {},
   "source": [
    "# Handle duplicat"
   ]
  },
  {
   "cell_type": "code",
   "execution_count": 27,
   "id": "28457aa3",
   "metadata": {},
   "outputs": [
    {
     "data": {
      "text/plain": [
       "Gordon SUITES - Sea U TLV                      103\n",
       "liz's place                                    102\n",
       "Touch of Rose                                  100\n",
       "Nof LaGilboa                                    96\n",
       "Hilltop luxury suites                           93\n",
       "                                              ... \n",
       "The Pearl of the Golan - Pnina BaGolan           1\n",
       "Miami Beach Hotel Tel Aviv                       1\n",
       "Center Chic Hotel - an Atlas Boutique Hotel      1\n",
       "Eden's Boutique                                  1\n",
       "Boutique suites in the old city                  1\n",
       "Name: Name, Length: 779, dtype: int64"
      ]
     },
     "execution_count": 27,
     "metadata": {},
     "output_type": "execute_result"
    }
   ],
   "source": [
    "df.Name.value_counts()"
   ]
  },
  {
   "cell_type": "code",
   "execution_count": 28,
   "id": "39748576",
   "metadata": {},
   "outputs": [],
   "source": [
    "df.drop_duplicates(subset=['Name'], ignore_index=True, inplace=True)"
   ]
  },
  {
   "cell_type": "markdown",
   "id": "8ef09546",
   "metadata": {},
   "source": [
    "### We can see over 3000 duplicate records This most likely cuz some hotel pay extra to pop up multiple time"
   ]
  },
  {
   "cell_type": "code",
   "execution_count": 30,
   "id": "d32fdd0b",
   "metadata": {},
   "outputs": [],
   "source": [
    "df.to_csv('data/hotels-filtered.csv',index=False)"
   ]
  }
 ],
 "metadata": {
  "kernelspec": {
   "display_name": "Python 3 (ipykernel)",
   "language": "python",
   "name": "python3"
  },
  "language_info": {
   "codemirror_mode": {
    "name": "ipython",
    "version": 3
   },
   "file_extension": ".py",
   "mimetype": "text/x-python",
   "name": "python",
   "nbconvert_exporter": "python",
   "pygments_lexer": "ipython3",
   "version": "3.10.9"
  }
 },
 "nbformat": 4,
 "nbformat_minor": 5
}
