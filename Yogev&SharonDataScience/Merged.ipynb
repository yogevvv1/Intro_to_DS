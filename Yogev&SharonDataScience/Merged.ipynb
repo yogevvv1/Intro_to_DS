{
 "cells": [
  {
   "cell_type": "code",
   "execution_count": 21,
   "id": "538cd0aa",
   "metadata": {},
   "outputs": [],
   "source": [
    "from os import mkdir, path\n",
    "from bs4 import BeautifulSoup\n",
    "from requests import get\n",
    "from pandas import DataFrame"
   ]
  },
  {
   "cell_type": "code",
   "execution_count": 2,
   "id": "34195974",
   "metadata": {},
   "outputs": [],
   "source": [
    "def getHotelName(hotel):\n",
    "    try:\n",
    "        return hotel.find('div', {\"data-testid\":\"title\"}).get_text()\n",
    "    except:\n",
    "        return None"
   ]
  },
  {
   "cell_type": "code",
   "execution_count": 3,
   "id": "c5ac7fd6",
   "metadata": {},
   "outputs": [],
   "source": [
    "def getHotelScore(hotel):\n",
    "    try:\n",
    "        return hotel.find('div', {\"class\":\"b5cd09854e d10a6220b4\"}).get_text()\n",
    "    except:\n",
    "        return None"
   ]
  },
  {
   "cell_type": "code",
   "execution_count": 4,
   "id": "2971558a",
   "metadata": {},
   "outputs": [],
   "source": [
    "def getHotelScoreInWord(hotel):\n",
    "    try:\n",
    "        return hotel.find('div', {\"class\":\"b5cd09854e f0d4d6a2f5 e46e88563a\"}).get_text()\n",
    "    except:\n",
    "        return None"
   ]
  },
  {
   "cell_type": "code",
   "execution_count": 5,
   "id": "610c0b87",
   "metadata": {},
   "outputs": [],
   "source": [
    "def getHotelReview(hotel):\n",
    "    try:\n",
    "        return hotel.find('div', {\"class\":\"d8eab2cf7f c90c0a70d3 db63693c62\"}).get_text()\n",
    "    except:\n",
    "        return None"
   ]
  },
  {
   "cell_type": "code",
   "execution_count": 6,
   "id": "ea5b2511",
   "metadata": {},
   "outputs": [],
   "source": [
    "def getHotelOriginPrice(hotel):\n",
    "    try:\n",
    "        return hotel.find('span', {\"class\":\"c5888af24f e729ed5ab6\"}).get_text()\n",
    "    except:\n",
    "        return None"
   ]
  },
  {
   "cell_type": "code",
   "execution_count": 7,
   "id": "7b45cae6",
   "metadata": {},
   "outputs": [],
   "source": [
    "def getHotelPrice(hotel):\n",
    "    try:\n",
    "        return hotel.find('span', {\"class\":\"fcab3ed991 fbd1d3018c e729ed5ab6\"}).get_text()\n",
    "    except:\n",
    "        return None"
   ]
  },
  {
   "cell_type": "code",
   "execution_count": 8,
   "id": "0039faec",
   "metadata": {},
   "outputs": [],
   "source": [
    "def getHotelLocation(hotel):\n",
    "    try:\n",
    "        return hotel.find('span', {\"class\":\"f4bd0794db b4273d69aa\"}).get_text()\n",
    "    except:\n",
    "        return None"
   ]
  },
  {
   "cell_type": "code",
   "execution_count": 9,
   "id": "a83403c1",
   "metadata": {},
   "outputs": [],
   "source": [
    "def getHotelLocationScore(hotel):\n",
    "    try:\n",
    "        return hotel.find('span', {\"class\":\"f9afbb0024\"}).get_text()\n",
    "    except:\n",
    "        return None"
   ]
  },
  {
   "cell_type": "code",
   "execution_count": 10,
   "id": "3e41a1e2",
   "metadata": {},
   "outputs": [],
   "source": [
    "def getHotelBreakfast(hotel):\n",
    "    try:\n",
    "        return hotel.find('div', {\"class\":\"a53696345b\"}).get_text()\n",
    "    except:\n",
    "        return None"
   ]
  },
  {
   "cell_type": "code",
   "execution_count": 11,
   "id": "9c731be3",
   "metadata": {},
   "outputs": [],
   "source": [
    "def getHotelBookingAward(hotel):\n",
    "    if hotel.find('span', {\"class\":\"b6dc9a9e69 c79b3cbed2 e6c50852bd fe3639fe67\"}):\n",
    "        return \"Owned\"\n",
    "    return \"Not Owned\""
   ]
  },
  {
   "cell_type": "code",
   "execution_count": 12,
   "id": "04fdee10",
   "metadata": {},
   "outputs": [],
   "source": [
    "def getHotelBookingScore(hotel):\n",
    "    try:\n",
    "        return hotel.find('div', {\"class\": \"e4755bbd60\"}).get(\"aria-label\")\n",
    "    except:\n",
    "        return None"
   ]
  },
  {
   "cell_type": "code",
   "execution_count": 13,
   "id": "756bd3a4",
   "metadata": {},
   "outputs": [],
   "source": [
    "def getHotelCancelation(hotel):\n",
    "    try:\n",
    "        return hotel.find('div', {\"class\": \"d506630cf3\"}).get_text()\n",
    "    except:\n",
    "        return None"
   ]
  },
  {
   "cell_type": "code",
   "execution_count": 14,
   "id": "993d7730",
   "metadata": {},
   "outputs": [],
   "source": [
    "def extractHotelDetails(hotel):\n",
    "    return [getHotelName(hotel),\n",
    "            getHotelScore(hotel),\n",
    "            getHotelScoreInWord(hotel),\n",
    "            getHotelReview(hotel),\n",
    "            getHotelOriginPrice(hotel),\n",
    "            getHotelPrice(hotel),\n",
    "            getHotelLocation(hotel),\n",
    "            getHotelLocationScore(hotel),\n",
    "            getHotelBreakfast(hotel),\n",
    "            getHotelBookingAward(hotel),\n",
    "            getHotelBookingScore(hotel),\n",
    "            getHotelCancelation(hotel)]"
   ]
  },
  {
   "cell_type": "code",
   "execution_count": 15,
   "id": "618de715",
   "metadata": {},
   "outputs": [],
   "source": [
    "def buildURL(s_d, s_m, s_y, e_d, e_m, e_y, offset):\n",
    "    return f\"https://www.booking.com/searchresults.html?label=gen173nr-1FCAEoggI46AdIM1gEaGqIAQGYATG4ARfIAQzYAQHoAQH4AQKIAgGoAgO4AoCRmZ8GwAIB0gIkOTRhMDczNzYtZDAxZS00NWYwLWEyMGEtZWFmOGFjOWI5YWU12AIF4AIB&sid=f2a761b3de4d732f171eb9f34ef308a3&aid=304142&sb=1&sb_lp=1&src=index&src_elem=sb&error_url=https%3A%2F%2Fwww.booking.com%2Findex.html%3Flabel%3Dgen173nr-1FCAEoggI46AdIM1gEaGqIAQGYATG4ARfIAQzYAQHoAQH4AQKIAgGoAgO4AoCRmZ8GwAIB0gIkOTRhMDczNzYtZDAxZS00NWYwLWEyMGEtZWFmOGFjOWI5YWU12AIF4AIB%26sid%3Df2a761b3de4d732f171eb9f34ef308a3%26sb_price_type%3Dtotal%26%26&ss=Israel&is_ski_area=&ssne=New+York&ssne_untouched=New+York&checkin_year={str(s_y)}&checkin_month={str(s_m)}&checkin_monthday={str(s_d)}&checkout_year={str(e_y)}&checkout_month={str(e_m)}&checkout_monthday={str(e_d)}&efdco=1&group_adults=1&group_children=0&no_rooms=1&b_h4u_keep_filters=&from_sf=1&ss_raw=i&ac_position=1&ac_langcode=en&ac_click_type=b&ac_meta=GhBhNTE4NWZjMGZkOWEwMjVlIAEoATICZW46AWlAAEoAUAA%3D&dest_id=103&dest_type=country&place_id_lat=31.6898&place_id_lon=35.0586&search_pageview_id=a5185fc0fd9a025e&search_selected=true&search_pageview_id=a5185fc0fd9a025e&ac_suggestion_list_length=5&ac_suggestion_theme_list_length=0&offset={str(offset)}\""
   ]
  },
  {
   "cell_type": "code",
   "execution_count": 16,
   "id": "e3303034",
   "metadata": {
    "collapsed": true
   },
   "outputs": [
    {
     "name": "stdout",
     "output_type": "stream",
     "text": [
      "collecting data....\n",
      "0.60% completed\n",
      "1.19% completed\n",
      "1.79% completed\n",
      "2.38% completed\n",
      "2.98% completed\n",
      "3.57% completed\n",
      "4.17% completed\n",
      "4.76% completed\n",
      "5.36% completed\n",
      "5.95% completed\n",
      "6.55% completed\n",
      "7.14% completed\n",
      "7.74% completed\n",
      "8.33% completed\n",
      "8.93% completed\n",
      "9.52% completed\n",
      "10.12% completed\n",
      "10.71% completed\n",
      "11.31% completed\n",
      "11.90% completed\n",
      "12.50% completed\n",
      "13.10% completed\n",
      "13.69% completed\n",
      "14.29% completed\n",
      "14.88% completed\n",
      "15.48% completed\n",
      "16.07% completed\n",
      "16.67% completed\n",
      "17.26% completed\n",
      "17.86% completed\n",
      "18.45% completed\n",
      "19.05% completed\n",
      "19.64% completed\n",
      "20.24% completed\n",
      "20.83% completed\n",
      "21.43% completed\n",
      "22.02% completed\n",
      "22.62% completed\n",
      "23.21% completed\n",
      "23.81% completed\n",
      "24.40% completed\n",
      "25.00% completed\n",
      "25.60% completed\n",
      "26.19% completed\n",
      "26.79% completed\n",
      "27.38% completed\n",
      "27.98% completed\n",
      "28.57% completed\n",
      "29.17% completed\n",
      "29.76% completed\n",
      "30.36% completed\n",
      "30.95% completed\n",
      "31.55% completed\n",
      "32.14% completed\n",
      "32.74% completed\n",
      "33.33% completed\n",
      "33.93% completed\n",
      "34.52% completed\n",
      "35.12% completed\n",
      "35.71% completed\n",
      "36.31% completed\n",
      "36.90% completed\n",
      "37.50% completed\n",
      "38.10% completed\n",
      "38.69% completed\n",
      "39.29% completed\n",
      "39.88% completed\n",
      "40.48% completed\n",
      "41.07% completed\n",
      "41.67% completed\n",
      "42.26% completed\n",
      "42.86% completed\n",
      "43.45% completed\n",
      "44.05% completed\n",
      "44.64% completed\n",
      "45.24% completed\n",
      "45.83% completed\n",
      "46.43% completed\n",
      "47.02% completed\n",
      "47.62% completed\n",
      "48.21% completed\n",
      "48.81% completed\n",
      "49.40% completed\n",
      "50.00% completed\n",
      "50.60% completed\n",
      "51.19% completed\n",
      "51.79% completed\n",
      "52.38% completed\n",
      "52.98% completed\n",
      "53.57% completed\n",
      "54.17% completed\n",
      "54.76% completed\n",
      "55.36% completed\n",
      "55.95% completed\n",
      "56.55% completed\n",
      "57.14% completed\n",
      "57.74% completed\n",
      "58.33% completed\n",
      "58.93% completed\n",
      "59.52% completed\n",
      "60.12% completed\n",
      "60.71% completed\n",
      "61.31% completed\n",
      "61.90% completed\n",
      "62.50% completed\n",
      "63.10% completed\n",
      "63.69% completed\n",
      "64.29% completed\n",
      "64.88% completed\n",
      "65.48% completed\n",
      "66.07% completed\n",
      "66.67% completed\n",
      "67.26% completed\n",
      "67.86% completed\n",
      "68.45% completed\n",
      "69.05% completed\n",
      "69.64% completed\n",
      "70.24% completed\n",
      "70.83% completed\n",
      "71.43% completed\n",
      "72.02% completed\n",
      "72.62% completed\n",
      "73.21% completed\n",
      "73.81% completed\n",
      "74.40% completed\n",
      "75.00% completed\n",
      "75.60% completed\n",
      "76.19% completed\n",
      "76.79% completed\n",
      "77.38% completed\n",
      "77.98% completed\n",
      "78.57% completed\n",
      "79.17% completed\n",
      "79.76% completed\n",
      "80.36% completed\n",
      "80.95% completed\n",
      "81.55% completed\n",
      "82.14% completed\n",
      "82.74% completed\n",
      "83.33% completed\n",
      "83.93% completed\n",
      "84.52% completed\n",
      "85.12% completed\n",
      "85.71% completed\n",
      "86.31% completed\n",
      "86.90% completed\n",
      "87.50% completed\n",
      "88.10% completed\n",
      "88.69% completed\n",
      "89.29% completed\n",
      "89.88% completed\n",
      "90.48% completed\n",
      "91.07% completed\n",
      "91.67% completed\n",
      "92.26% completed\n",
      "92.86% completed\n",
      "93.45% completed\n",
      "94.05% completed\n",
      "94.64% completed\n",
      "95.24% completed\n",
      "95.83% completed\n",
      "96.43% completed\n",
      "97.02% completed\n",
      "97.62% completed\n",
      "98.21% completed\n",
      "98.81% completed\n",
      "99.40% completed\n",
      "100.00% completed\n"
     ]
    }
   ],
   "source": [
    "headers = {'User-Agent':\"Mozilla/5.0 (Macintosh; Intel Mac OS X 10_11_2) AppleWebKit/601.3.9 (KHTML, like Gecko) Version/9.0.2 Safary/601.3.9\"}\n",
    "df = DataFrame(columns=['Name', 'Score', 'ScoreInWord', 'Review', 'OriginPrice', 'SalePrice', 'Location', 'LocationScore', 'Breakfast', 'BookingAward', 'BookingScore', 'Cancelation'])\n",
    "\n",
    "print(\"collecting data....\")\n",
    "for i in range(0, 4200, 25):\n",
    "    url = buildURL(19,2,2023,25,2,2023,i)\n",
    "    r = get(url, headers=headers)\n",
    "    if r.status_code != 200:\n",
    "        print(\"Done\")\n",
    "        break\n",
    "    soup = BeautifulSoup(r.content, 'html.parser')\n",
    "    hotelList =soup.find_all('div', {'data-testid':'property-card'})\n",
    "    for hotel in hotelList:\n",
    "        df.loc[len(df)] = extractHotelDetails(hotel)\n",
    "    print(f\"{((i+25) / 42):.2f}% completed\")"
   ]
  },
  {
   "cell_type": "code",
   "execution_count": 24,
   "id": "23ee458b",
   "metadata": {
    "collapsed": true
   },
   "outputs": [
    {
     "data": {
      "text/html": [
       "<div>\n",
       "<style scoped>\n",
       "    .dataframe tbody tr th:only-of-type {\n",
       "        vertical-align: middle;\n",
       "    }\n",
       "\n",
       "    .dataframe tbody tr th {\n",
       "        vertical-align: top;\n",
       "    }\n",
       "\n",
       "    .dataframe thead th {\n",
       "        text-align: right;\n",
       "    }\n",
       "</style>\n",
       "<table border=\"1\" class=\"dataframe\">\n",
       "  <thead>\n",
       "    <tr style=\"text-align: right;\">\n",
       "      <th></th>\n",
       "      <th>Name</th>\n",
       "      <th>Score</th>\n",
       "      <th>ScoreInWord</th>\n",
       "      <th>Review</th>\n",
       "      <th>OriginPrice</th>\n",
       "      <th>SalePrice</th>\n",
       "      <th>Location</th>\n",
       "      <th>LocationScore</th>\n",
       "      <th>Breakfast</th>\n",
       "      <th>BookingAward</th>\n",
       "      <th>BookingScore</th>\n",
       "      <th>Cancelation</th>\n",
       "    </tr>\n",
       "  </thead>\n",
       "  <tbody>\n",
       "    <tr>\n",
       "      <th>0</th>\n",
       "      <td>Superior Studio Vacation House by Stay Eilat -...</td>\n",
       "      <td>7.8</td>\n",
       "      <td>Good</td>\n",
       "      <td>21 reviews</td>\n",
       "      <td>₪ 4,936</td>\n",
       "      <td>₪ 2,419</td>\n",
       "      <td>Eilat</td>\n",
       "      <td>None</td>\n",
       "      <td>None</td>\n",
       "      <td>Not Owned</td>\n",
       "      <td>3 out of 5</td>\n",
       "      <td>FREE cancellation • No prepayment needed</td>\n",
       "    </tr>\n",
       "    <tr>\n",
       "      <th>1</th>\n",
       "      <td>La Perle Hotel</td>\n",
       "      <td>7.2</td>\n",
       "      <td>Good</td>\n",
       "      <td>157 reviews</td>\n",
       "      <td>₪ 2,200</td>\n",
       "      <td>₪ 2,156</td>\n",
       "      <td>West Jerusalem, Jerusalem</td>\n",
       "      <td>Location 9.4</td>\n",
       "      <td>None</td>\n",
       "      <td>Not Owned</td>\n",
       "      <td>None</td>\n",
       "      <td>None</td>\n",
       "    </tr>\n",
       "    <tr>\n",
       "      <th>2</th>\n",
       "      <td>Lago Suites Hotel</td>\n",
       "      <td>5.9</td>\n",
       "      <td>Review score</td>\n",
       "      <td>109 reviews</td>\n",
       "      <td>None</td>\n",
       "      <td>₪ 2,992</td>\n",
       "      <td>West Jerusalem, Jerusalem</td>\n",
       "      <td>None</td>\n",
       "      <td>None</td>\n",
       "      <td>Not Owned</td>\n",
       "      <td>None</td>\n",
       "      <td>FREE cancellation • No prepayment needed</td>\n",
       "    </tr>\n",
       "    <tr>\n",
       "      <th>3</th>\n",
       "      <td>G38 Rental Apartment Building</td>\n",
       "      <td>8.5</td>\n",
       "      <td>Very good</td>\n",
       "      <td>76 reviews</td>\n",
       "      <td>None</td>\n",
       "      <td>₪ 2,160</td>\n",
       "      <td>Haifa</td>\n",
       "      <td>Location 9.3</td>\n",
       "      <td>None</td>\n",
       "      <td>Not Owned</td>\n",
       "      <td>3 out of 5</td>\n",
       "      <td>None</td>\n",
       "    </tr>\n",
       "    <tr>\n",
       "      <th>4</th>\n",
       "      <td>Amdar Holiday Apartments</td>\n",
       "      <td>7.7</td>\n",
       "      <td>Good</td>\n",
       "      <td>715 reviews</td>\n",
       "      <td>None</td>\n",
       "      <td>₪ 3,145</td>\n",
       "      <td>Eilat</td>\n",
       "      <td>None</td>\n",
       "      <td>None</td>\n",
       "      <td>Owned</td>\n",
       "      <td>3 out of 5</td>\n",
       "      <td>FREE cancellation • No prepayment needed</td>\n",
       "    </tr>\n",
       "  </tbody>\n",
       "</table>\n",
       "</div>"
      ],
      "text/plain": [
       "                                                Name Score    ScoreInWord  \\\n",
       "0  Superior Studio Vacation House by Stay Eilat -...   7.8          Good    \n",
       "1                                     La Perle Hotel   7.2          Good    \n",
       "2                                  Lago Suites Hotel   5.9  Review score    \n",
       "3                      G38 Rental Apartment Building   8.5     Very good    \n",
       "4                           Amdar Holiday Apartments   7.7          Good    \n",
       "\n",
       "        Review OriginPrice SalePrice                   Location LocationScore  \\\n",
       "0   21 reviews     ₪ 4,936   ₪ 2,419                      Eilat          None   \n",
       "1  157 reviews     ₪ 2,200   ₪ 2,156  West Jerusalem, Jerusalem  Location 9.4   \n",
       "2  109 reviews        None   ₪ 2,992  West Jerusalem, Jerusalem          None   \n",
       "3   76 reviews        None   ₪ 2,160                      Haifa  Location 9.3   \n",
       "4  715 reviews        None   ₪ 3,145                      Eilat          None   \n",
       "\n",
       "  Breakfast BookingAward BookingScore  \\\n",
       "0      None    Not Owned   3 out of 5   \n",
       "1      None    Not Owned         None   \n",
       "2      None    Not Owned         None   \n",
       "3      None    Not Owned   3 out of 5   \n",
       "4      None        Owned   3 out of 5   \n",
       "\n",
       "                                Cancelation  \n",
       "0  FREE cancellation • No prepayment needed  \n",
       "1                                      None  \n",
       "2  FREE cancellation • No prepayment needed  \n",
       "3                                      None  \n",
       "4  FREE cancellation • No prepayment needed  "
      ]
     },
     "execution_count": 24,
     "metadata": {},
     "output_type": "execute_result"
    }
   ],
   "source": [
    "df.head(5)"
   ]
  },
  {
   "cell_type": "code",
   "execution_count": 23,
   "id": "bf5aed55",
   "metadata": {},
   "outputs": [],
   "source": [
    "if not path.exists('data'):\n",
    "    mkdir('data')\n",
    "df.to_csv('data\\hotels.csv', index=False)"
   ]
  },
  {
   "cell_type": "code",
   "execution_count": null,
   "id": "5bbab76e",
   "metadata": {},
   "outputs": [],
   "source": []
  },
  {
   "cell_type": "code",
   "execution_count": null,
   "id": "c22be0dd",
   "metadata": {},
   "outputs": [],
   "source": [
    "import pandas as pd"
   ]
  },
  {
   "cell_type": "code",
   "execution_count": null,
   "id": "c098ab43",
   "metadata": {},
   "outputs": [],
   "source": [
    "# Load the DataFrame\n",
    "df = pd.read_csv('data/hotels.csv')"
   ]
  },
  {
   "cell_type": "markdown",
   "id": "e9d3d204",
   "metadata": {},
   "source": [
    "# Breakfast"
   ]
  },
  {
   "cell_type": "code",
   "execution_count": null,
   "id": "edd149ad",
   "metadata": {},
   "outputs": [],
   "source": [
    "# We can see that there are some overlap\n",
    "df.Breakfast.value_counts()"
   ]
  },
  {
   "cell_type": "code",
   "execution_count": null,
   "id": "a998ceb2",
   "metadata": {},
   "outputs": [],
   "source": [
    "BreakfastReplacmentDict = {'Breakfast included': 1, 'Breakfast & dinner included': 2, 'All-inclusive': 3, 'All meals included': 3}\n",
    "df.Breakfast = df.Breakfast.map(BreakfastReplacmentDict)"
   ]
  },
  {
   "cell_type": "code",
   "execution_count": null,
   "id": "161fbe45",
   "metadata": {},
   "outputs": [],
   "source": [
    "# There are some Nan values, most likelytheir meaning is no meals at all\n",
    "df.Breakfast.info()"
   ]
  },
  {
   "cell_type": "code",
   "execution_count": null,
   "id": "260bec02",
   "metadata": {},
   "outputs": [],
   "source": [
    "df.Breakfast.fillna(0, inplace=True)\n",
    "df.Breakfast = df.Breakfast.astype(int)"
   ]
  },
  {
   "cell_type": "code",
   "execution_count": null,
   "id": "5fd51b65",
   "metadata": {},
   "outputs": [],
   "source": [
    "df.Breakfast.value_counts()"
   ]
  },
  {
   "cell_type": "markdown",
   "id": "99daaf3c",
   "metadata": {},
   "source": [
    "# BookingScore"
   ]
  },
  {
   "cell_type": "code",
   "execution_count": null,
   "id": "c3265c56",
   "metadata": {},
   "outputs": [],
   "source": [
    "# Change to numeric value\n",
    "df.BookingScore.value_counts()"
   ]
  },
  {
   "cell_type": "code",
   "execution_count": null,
   "id": "2dba1a81",
   "metadata": {},
   "outputs": [],
   "source": [
    "BookingScoreReplacmentDict = {'1 out of 5': 1, '2 out of 5': 2, '3 out of 5': 3, '4 out of 5': 4, '5 out of 5': 5}\n",
    "df.BookingScore = df.BookingScore.map(BookingScoreReplacmentDict)"
   ]
  },
  {
   "cell_type": "code",
   "execution_count": null,
   "id": "acc5de6a",
   "metadata": {},
   "outputs": [],
   "source": [
    "# There are some Nan value, we assume that the meaning is 0 stars\n",
    "df.BookingScore.fillna(0, inplace=True)\n",
    "df.BookingScore = df.BookingScore.astype(int)\n",
    "df.BookingScore.value_counts()"
   ]
  },
  {
   "cell_type": "code",
   "execution_count": null,
   "id": "922a32c7",
   "metadata": {},
   "outputs": [],
   "source": [
    "df.BookingAward.info()"
   ]
  },
  {
   "cell_type": "code",
   "execution_count": null,
   "id": "db610965",
   "metadata": {},
   "outputs": [],
   "source": [
    "# There are no Nan value, only replave to numeric needed (משתנה בדיד ללא חשיבות לסדר)\n",
    "BookingAwardReplacmentDict = {'Not Owned': 0,'Owned': 1}\n",
    "df.BookingAward = df.BookingAward.map(BookingAwardReplacmentDict)"
   ]
  },
  {
   "cell_type": "markdown",
   "id": "0485c7ef",
   "metadata": {},
   "source": [
    "# Cancelation"
   ]
  },
  {
   "cell_type": "code",
   "execution_count": null,
   "id": "e2353031",
   "metadata": {},
   "outputs": [],
   "source": [
    "df.Cancelation.value_counts()"
   ]
  },
  {
   "cell_type": "code",
   "execution_count": null,
   "id": "30fbfd33",
   "metadata": {},
   "outputs": [],
   "source": [
    "CancelationReplacmentDict = {'FREE cancellation • No prepayment needed': 1, 'Free cancellation': 2}\n",
    "df.Cancelation = df.Cancelation.map(CancelationReplacmentDict)"
   ]
  },
  {
   "cell_type": "code",
   "execution_count": null,
   "id": "33f7ac91",
   "metadata": {},
   "outputs": [],
   "source": [
    "# There are some Nan value, we assume that the meaning is No cancelation allowed\n",
    "df.Cancelation.fillna(0, inplace=True)\n",
    "df.Cancelation = df.Cancelation.astype(int)\n",
    "df.Cancelation.value_counts()"
   ]
  },
  {
   "cell_type": "markdown",
   "id": "204b0ff5",
   "metadata": {},
   "source": [
    "# LocationScore"
   ]
  },
  {
   "cell_type": "code",
   "execution_count": null,
   "id": "b0a0b75c",
   "metadata": {},
   "outputs": [],
   "source": [
    "df.LocationScore.info()"
   ]
  },
  {
   "cell_type": "code",
   "execution_count": null,
   "id": "cc5a0ded",
   "metadata": {},
   "outputs": [],
   "source": [
    "# we want to change it from object type float type, so first we had to delete \"Location \"\n",
    "df.LocationScore = df.LocationScore.str.replace(\"Location \", \"\") \n",
    "df.LocationScore = df.LocationScore.astype(float)\n",
    "df.LocationScore.value_counts()"
   ]
  },
  {
   "cell_type": "code",
   "execution_count": null,
   "id": "5ffff174",
   "metadata": {},
   "outputs": [],
   "source": [
    "# We assume Nan ment hotel with no Location score filled up yet,\n",
    "# and we didnt want to effect the data distrabution so we use median insted\n",
    "df.LocationScore.fillna(df.LocationScore.median(), inplace=True)\n",
    "df.LocationScore.value_counts()"
   ]
  },
  {
   "cell_type": "markdown",
   "id": "8fbd6163",
   "metadata": {},
   "source": [
    "# Review"
   ]
  },
  {
   "cell_type": "code",
   "execution_count": null,
   "id": "a5f1abe0",
   "metadata": {},
   "outputs": [],
   "source": [
    "df.Review.unique()"
   ]
  },
  {
   "cell_type": "code",
   "execution_count": null,
   "id": "2c372745",
   "metadata": {},
   "outputs": [],
   "source": [
    "# There is \"review\" suffix, lets get rid from it\n",
    "df.Review = df.Review.str.replace(' reviews', '')\n",
    "df.Review = df.Review.str.replace(' review', '')\n",
    "df.Review = df.Review.str.replace(' external', '')\n",
    "df.Review = df.Review.str.replace(',', '')\n",
    "df.Review.fillna(0, inplace=True)\n",
    "df.Review = df.Review.astype(int)\n",
    "df.Review.info()"
   ]
  },
  {
   "cell_type": "markdown",
   "id": "65bca9db",
   "metadata": {},
   "source": [
    "# SalePrice & OriginPrice"
   ]
  },
  {
   "cell_type": "code",
   "execution_count": null,
   "id": "6475cf70",
   "metadata": {},
   "outputs": [],
   "source": [
    "print(df.SalePrice.info()) # no Nan\n",
    "print(df.OriginPrice.info()) # more then 3000 Nan\n",
    "df.head(5)"
   ]
  },
  {
   "cell_type": "code",
   "execution_count": null,
   "id": "a6c338ea",
   "metadata": {},
   "outputs": [],
   "source": [
    "# Nan in \"origin price\" column mean that there is no discount, if we put zero in this will be wrong\n",
    "# so we chane this colums logic to hold the delta price\n",
    "df.rename(columns={'OriginPrice': 'Discount', 'SalePrice': 'Price'}, inplace=True)"
   ]
  },
  {
   "cell_type": "code",
   "execution_count": null,
   "id": "6a0175a9",
   "metadata": {},
   "outputs": [],
   "source": [
    "# Handle Nan nan and some unwanted text\n",
    "df.Discount = df.Discount.str.replace('₪\\xa0', '')\n",
    "df.Discount = df.Discount.str.replace(',', '')\n",
    "df.Price = df.Price.str.replace('₪\\xa0', '')\n",
    "df.Price = df.Price.str.replace(',', '')\n",
    "df.Discount.fillna(0, inplace=True)\n",
    "df.Price.fillna(0, inplace=True)\n",
    "df.Price = df.Price.astype(int)\n",
    "df.Discount = df.Discount.astype(int)"
   ]
  },
  {
   "cell_type": "code",
   "execution_count": null,
   "id": "1c7091e7",
   "metadata": {},
   "outputs": [],
   "source": [
    "df.head(5)"
   ]
  },
  {
   "cell_type": "code",
   "execution_count": null,
   "id": "659842a5",
   "metadata": {},
   "outputs": [],
   "source": [
    "df.Discount = df.Discount - df.Price\n",
    "df.Discount = df.Discount.where(df.Discount >= 0, 0)\n",
    "df.head(5)"
   ]
  },
  {
   "cell_type": "markdown",
   "id": "1524be96",
   "metadata": {},
   "source": [
    "# Score & ScoreInWord"
   ]
  },
  {
   "cell_type": "code",
   "execution_count": null,
   "id": "991b02ec",
   "metadata": {},
   "outputs": [],
   "source": [
    "df.ScoreInWord.unique()"
   ]
  },
  {
   "cell_type": "code",
   "execution_count": null,
   "id": "bab414d3",
   "metadata": {},
   "outputs": [],
   "source": [
    "# There are some nan value in this column. and we dont have any idea howw to estimate hotel score.\n",
    "# so we will just drop them\n",
    "df.dropna(subset = ['Score'], inplace=True)"
   ]
  },
  {
   "cell_type": "markdown",
   "id": "38c04471",
   "metadata": {},
   "source": [
    "# Handle duplicat"
   ]
  },
  {
   "cell_type": "code",
   "execution_count": null,
   "id": "62526ad7",
   "metadata": {},
   "outputs": [],
   "source": [
    "df.Name.value_counts()"
   ]
  },
  {
   "cell_type": "code",
   "execution_count": null,
   "id": "0d8ba91e",
   "metadata": {},
   "outputs": [],
   "source": [
    "df.drop_duplicates(subset=['Name'], ignore_index=True, inplace=True)"
   ]
  },
  {
   "cell_type": "markdown",
   "id": "f3a6058b",
   "metadata": {},
   "source": [
    "### We can see over 3000 duplicate records This most likely cuz some hotel pay extra to pop up multiple time"
   ]
  },
  {
   "cell_type": "code",
   "execution_count": null,
   "id": "aecd338a",
   "metadata": {},
   "outputs": [],
   "source": [
    "df.to_csv('data/hotels-filtered.csv',index=False)"
   ]
  },
  {
   "cell_type": "code",
   "execution_count": null,
   "id": "c80703f0",
   "metadata": {},
   "outputs": [],
   "source": []
  },
  {
   "cell_type": "code",
   "execution_count": null,
   "id": "93357bb2",
   "metadata": {},
   "outputs": [],
   "source": [
    "from os import mkdir, path\n",
    "import numpy as np\n",
    "import pandas as pd\n",
    "import matplotlib.pyplot as plt\n",
    "import seaborn as sns\n",
    "import warnings\n",
    "warnings.filterwarnings(\"ignore\")"
   ]
  },
  {
   "cell_type": "code",
   "execution_count": null,
   "id": "788bb963",
   "metadata": {},
   "outputs": [],
   "source": [
    "df = pd.read_csv('data/hotels-filtered.csv')"
   ]
  },
  {
   "cell_type": "code",
   "execution_count": null,
   "id": "6807a7e5",
   "metadata": {},
   "outputs": [],
   "source": [
    "if not path.exists('images'):\n",
    "    mkdir('images')\n",
    "    mkdir('images/normal')\n",
    "    mkdir('images/transparent')    "
   ]
  },
  {
   "cell_type": "markdown",
   "id": "b60cba8d",
   "metadata": {},
   "source": [
    "<hr style=\"border:2px solid blue\">"
   ]
  },
  {
   "cell_type": "code",
   "execution_count": null,
   "id": "ad88ec08",
   "metadata": {},
   "outputs": [],
   "source": [
    "df.BookingAward.value_counts().plot(kind='pie', autopct='%1.2f%%', labels=['Not own', 'Own'],shadow=True,explode=(0, 0.1),colors=['tomato', 'limeGreen'])\n",
    "plt.savefig('images/normal/Booking Award Pie Chart.png', bbox_inches='tight')\n",
    "plt.savefig('images/transparent/Booking Award Pie Chart.png', bbox_inches='tight', transparent=True)\n",
    "plt.show()"
   ]
  },
  {
   "cell_type": "code",
   "execution_count": null,
   "id": "3d528f40",
   "metadata": {},
   "outputs": [],
   "source": [
    "df.BookingScore.value_counts().plot(kind='bar', color=['b', 'r', 'g', 'y'])\n",
    "plt.title('Booking score count')\n",
    "plt.xlabel('Stars amount')\n",
    "plt.ylabel('Totel count')\n",
    "plt.savefig('images/normal/Booking Score bar Chart.png', bbox_inches='tight')\n",
    "plt.savefig('images/transparent/BookingScore bar Chart.png', bbox_inches='tight', transparent=True)\n",
    "plt.show()"
   ]
  },
  {
   "cell_type": "code",
   "execution_count": null,
   "id": "e23112e5",
   "metadata": {},
   "outputs": [],
   "source": [
    "# the ratio is kept on when compering the two colums above\n",
    "ct1 = pd.crosstab(df.BookingAward, df.BookingScore)\n",
    "ax = ct1.plot(kind='bar', figsize=(10,4))\n",
    "plt.title('Booking score Over Booking Award')\n",
    "plt.ylabel('Totel count')\n",
    "\n",
    "for i in ax.patches:\n",
    "    ax.text(i.get_x() + i.get_width()/2, i.get_height() + 1, str(int(i.get_height())), ha='center')\n",
    "\n",
    "plt.savefig('images/normal/Booking score Over Booking Award.png', bbox_inches='tight')\n",
    "plt.savefig('images/transparent/Booking score Over Booking Award.png', bbox_inches='tight', transparent=True)\n",
    "\n",
    "plt.show()"
   ]
  },
  {
   "cell_type": "markdown",
   "id": "2d9e4e0c",
   "metadata": {},
   "source": [
    "<hr style=\"border:2px solid blue\">"
   ]
  },
  {
   "cell_type": "code",
   "execution_count": null,
   "id": "c6c9af10",
   "metadata": {},
   "outputs": [],
   "source": [
    "# we can see outliers at edges\n",
    "plt.scatter(df.Score, df.Price)\n",
    "plt.title('Price Over Score')\n",
    "plt.xlabel('Score')\n",
    "plt.ylabel('Price')\n",
    "\n",
    "plt.savefig('images/normal/Price Over Score.png', bbox_inches='tight')\n",
    "plt.savefig('images/transparent/Price Over Score.png', bbox_inches='tight', transparent=True)\n",
    "\n",
    "plt.show()"
   ]
  },
  {
   "cell_type": "code",
   "execution_count": null,
   "id": "57557cde",
   "metadata": {},
   "outputs": [],
   "source": [
    "# we also can see it in violin plot\n",
    "sns.violinplot(df.Score)\n",
    "plt.title('Violin Booking score')\n",
    "plt.ylabel('score')\n",
    "\n",
    "plt.savefig('images/normal/Violin Booking score.png', bbox_inches='tight')\n",
    "plt.savefig('images/transparent/Violin Booking score.png', bbox_inches='tight', transparent=True)\n",
    "\n",
    "plt.show()"
   ]
  },
  {
   "cell_type": "code",
   "execution_count": null,
   "id": "f0d8a469",
   "metadata": {},
   "outputs": [],
   "source": [
    "sns.violinplot(dfWithoutOutliers.Price)\n",
    "plt.title('Violin Price')\n",
    "plt.ylabel('Price')\n",
    "\n",
    "plt.savefig('images/normal/Violin Price.png', bbox_inches='tight')\n",
    "plt.savefig('images/transparent/Violin Price.png', bbox_inches='tight', transparent=True)\n",
    "\n",
    "plt.show()"
   ]
  },
  {
   "cell_type": "code",
   "execution_count": null,
   "id": "bbb292e6",
   "metadata": {},
   "outputs": [],
   "source": [
    "dfWithoutOutliers = df[(df.Price <= 20000) & (df.Score >= 4)]\n",
    "plt.scatter(dfWithoutOutliers.Score, dfWithoutOutliers.Price)\n",
    "\n",
    "plt.title('Price Over Score w/o outliers')\n",
    "plt.xlabel('Score')\n",
    "plt.ylabel('Price')\n",
    "\n",
    "plt.savefig('images/normal/Price Over Score without outliers.png', bbox_inches='tight')\n",
    "plt.savefig('images/transparent/Price Over Score without outliers.png', bbox_inches='tight', transparent=True)\n",
    "\n",
    "plt.show()"
   ]
  },
  {
   "cell_type": "code",
   "execution_count": null,
   "id": "98e6ce7a",
   "metadata": {},
   "outputs": [],
   "source": [
    "# we can see the 5 booking score can be recieved even in cheap hotels thet arn't rating high and \n",
    "fig = plt.figure(figsize=(6,6))\n",
    "ax = plt.axes()\n",
    "ax.scatter(dfWithoutOutliers.Score, dfWithoutOutliers.Discount)\n",
    "ax.scatter(dfWithoutOutliers.Score[dfWithoutOutliers.BookingScore==2], dfWithoutOutliers.Discount[dfWithoutOutliers.BookingScore==2], c='yellow')\n",
    "ax.scatter(dfWithoutOutliers.Score[dfWithoutOutliers.BookingScore==3], dfWithoutOutliers.Discount[dfWithoutOutliers.BookingScore==3], c='green')\n",
    "ax.scatter(dfWithoutOutliers.Score[dfWithoutOutliers.BookingScore==4], dfWithoutOutliers.Discount[dfWithoutOutliers.BookingScore==4], c='red')\n",
    "ax.scatter(dfWithoutOutliers.Score[dfWithoutOutliers.BookingScore==5], dfWithoutOutliers.Discount[dfWithoutOutliers.BookingScore==5], c='magenta')\n",
    "ax.legend(labels=['0/5 stars','2/5 stars', '3/5 stars', '4/5 stars', '5/5 stars'])\n",
    "\n",
    "plt.title('Price Over Score w/o outliers color')\n",
    "plt.xlabel('Score')\n",
    "plt.ylabel('Discount')\n",
    "\n",
    "plt.savefig('images/normal/Price Over Score without outliers color.png', bbox_inches='tight')\n",
    "plt.savefig('images/transparent/Price Over Score without outliers color.png', bbox_inches='tight', transparent=True)\n",
    "\n",
    "plt.show()"
   ]
  },
  {
   "cell_type": "markdown",
   "id": "ecaf387c",
   "metadata": {},
   "source": [
    "<hr style=\"border:2px solid blue\">"
   ]
  },
  {
   "cell_type": "code",
   "execution_count": null,
   "id": "0b227e1f",
   "metadata": {},
   "outputs": [],
   "source": [
    "# we can see that more review doesn't mean better award. \n",
    "fig, (ax1, ax2) = plt.subplots(1, 2, figsize=(10, 4))\n",
    "\n",
    "ax1.plot(df.groupby('Review').mean()[['BookingAward','BookingScore' ]], label=['BookingAward', 'BookingScore'])\n",
    "ax1.set_title('Review over B.A and B.S')\n",
    "ax1.set_xlabel(\"review amount\")\n",
    "ax1.set_ylabel(\"B.A & B.S (mean)\")\n",
    "ax1.legend(loc='upper right')\n",
    "\n",
    "# Plot data in the second subplot\n",
    "ax2.plot(df.groupby(['Score']).mean()[['BookingAward','BookingScore']], label=['BookingAward','BookingScore'])\n",
    "ax2.set_title('Score over B.A and B.S')\n",
    "ax2.set_xlabel(\"Score amount\")\n",
    "ax2.set_ylabel(\"B.A & B.S (mean)\")\n",
    "ax2.legend(loc='upper left')\n",
    "\n",
    "plt.savefig('images/normal/B.A and B.S.png', bbox_inches='tight')\n",
    "plt.savefig('images/transparent/B.A and B.S.png', bbox_inches='tight', transparent=True)\n",
    "\n",
    "# Show the plot\n",
    "plt.tight_layout()\n",
    "plt.show()"
   ]
  },
  {
   "cell_type": "markdown",
   "id": "5c96bd41",
   "metadata": {},
   "source": [
    "<hr style=\"border:2px solid blue\">"
   ]
  },
  {
   "cell_type": "code",
   "execution_count": null,
   "id": "d650dbb6",
   "metadata": {},
   "outputs": [],
   "source": [
    "BreakfastLegend ={0: \"None\", 1: \"Breakfast\", 2: 'Breakfast&dinner', 3: 'all meals'}\n",
    "cancellationLegend = {0: \"None\", 1: 'FREE cancellation • No prepayment needed', 2: 'Free cancellation'}\n",
    "\n",
    "plt.subplot(1, 2, 1)\n",
    "Breakfast_counts = df.Breakfast.value_counts()\n",
    "Breakfast_counts.plot(kind='bar')\n",
    "plt.title('Breakfast bar')\n",
    "\n",
    "for i, v in enumerate(Breakfast_counts):\n",
    "    plt.text(i, v + 10, str(v), ha='center')\n",
    "\n",
    "plt.subplot(1, 2, 2)\n",
    "cancellation_counts = df.Cancelation.value_counts()\n",
    "cancellation_counts.plot(kind='bar')\n",
    "plt.title('Cancelation bar')\n",
    "\n",
    "for i, v in enumerate(cancellation_counts):\n",
    "    plt.text(i, v + 10, str(v), ha='center')\n",
    "    \n",
    "plt.savefig('images/normal/Breakfast Cancelation bar.png', bbox_inches='tight')\n",
    "plt.savefig('images/transparent/Breakfast Cancelation bar.png', bbox_inches='tight', transparent=True)\n",
    "\n",
    "plt.show()"
   ]
  },
  {
   "cell_type": "markdown",
   "id": "6b676ca3",
   "metadata": {},
   "source": [
    "<hr style=\"border:2px solid blue\">"
   ]
  },
  {
   "cell_type": "code",
   "execution_count": null,
   "id": "a0b3190b",
   "metadata": {},
   "outputs": [],
   "source": [
    "# Remove outliers\n",
    "plt.scatter(df.Price, df.Discount)\n",
    "\n",
    "plt.title('Price Discount scater')\n",
    "plt.xlabel('Price')\n",
    "plt.ylabel('Discount')\n",
    "\n",
    "plt.savefig('images/normal/Price Discount scater.png', bbox_inches='tight')\n",
    "plt.savefig('images/transparent/Breakfast Cancelation.png', bbox_inches='tight', transparent=True)\n",
    "\n",
    "plt.show()"
   ]
  },
  {
   "cell_type": "code",
   "execution_count": null,
   "id": "b50b3f36",
   "metadata": {},
   "outputs": [],
   "source": [
    "df = df[(df.Price < 20000) & (df.Discount < 5000)]\n",
    "plt.scatter(df.Price, df.Discount)\n",
    "\n",
    "plt.title('Price Discount scater filtered')\n",
    "plt.xlabel('Price')\n",
    "plt.ylabel('Discount')\n",
    "\n",
    "plt.savefig('images/normal/Price Discount scater filtered.png', bbox_inches='tight')\n",
    "plt.savefig('images/transparent/Breakfast Cancelation filtered.png', bbox_inches='tight', transparent=True)\n",
    "\n",
    "plt.show()"
   ]
  },
  {
   "cell_type": "code",
   "execution_count": null,
   "id": "5929a40d",
   "metadata": {},
   "outputs": [],
   "source": [
    "from sklearn.linear_model import LinearRegression\n",
    "\n",
    "\n",
    "# Filter the data where discount is 0\n",
    "df0 = df[df.Discount == 0]\n",
    "x0 = df0.Price.values.reshape(-1, 1)\n",
    "y0 = df0.Discount.values.reshape(-1, 1)\n",
    "reg0 = LinearRegression().fit(x0, y0)\n",
    "y_pred0 = reg0.predict(x0)\n",
    "\n",
    "# Filter the data where discount is 10\n",
    "df10 = df[(df.Discount != 0) & (abs(df.Discount / df.Price) > 0.08) & (abs(df.Discount / df.Price) < 0.12)]\n",
    "x10 = df10.Price.values.reshape(-1, 1)\n",
    "y10 = df10.Discount.values.reshape(-1, 1)\n",
    "reg10 = LinearRegression().fit(x10, y10)\n",
    "y_pred10 = reg10.predict(x10)\n",
    "\n",
    "# Filter the data where discount is 25\n",
    "df25 = df[(df.Discount != 0) & (abs(df.Discount / df.Price) > 0.24) & (abs(df.Discount / df.Price) < 0.26)]\n",
    "x25 = df25.Price.values.reshape(-1, 1)\n",
    "y25 = df25.Discount.values.reshape(-1, 1)\n",
    "reg25 = LinearRegression().fit(x25, y25)\n",
    "y_pred25 = reg25.predict(x25)\n",
    "\n",
    "# Filter the data where discount is 33\n",
    "df33 = df[(df.Discount != 0) & (abs(df.Discount / df.Price) > 0.32) & (abs(df.Discount / df.Price) < 0.34)]\n",
    "x33 = df33.Price.values.reshape(-1, 1)\n",
    "y33 = df33.Discount.values.reshape(-1, 1)\n",
    "reg33 = LinearRegression().fit(x33, y33)\n",
    "y_pred33 = reg33.predict(x33)\n",
    "\n",
    "# Filter the data where discount is 65\n",
    "df65 = df[(df.Discount != 0) & (abs(df.Discount / df.Price) > 0.6) & (abs(df.Discount / df.Price) < 0.7)]\n",
    "x65 = df65.Price.values.reshape(-1, 1)\n",
    "y65 = df65.Discount.values.reshape(-1, 1)\n",
    "reg65 = LinearRegression().fit(x65, y65)\n",
    "y_pred65 = reg65.predict(x65)\n",
    "\n",
    "# Plot the scatter plot\n",
    "plt.scatter(df.Price, df.Discount, color='blue')\n",
    "\n",
    "# Plot the regression line\n",
    "plt.plot(x0, y_pred0, color='red')\n",
    "plt.plot(x10, y_pred10, color='green')\n",
    "plt.plot(x25, y_pred25, color='lime')\n",
    "plt.plot(x33, y_pred33, color='yellow')\n",
    "plt.plot(x65, y_pred65, color='grey')\n",
    "\n",
    "plt.text(x0.max()-20, y0.max()+1, '0%', fontsize=12)\n",
    "plt.text(x10.max()-20, y10.max()+1, '10%', fontsize=12)\n",
    "plt.text(x25.max()-20, y25.max()+1, '25%', fontsize=12)\n",
    "plt.text(x33.max()-20, y33.max()+1, '33%', fontsize=12)\n",
    "plt.text(x65.max()-20, y65.max()+1, '65%', fontsize=12)\n",
    "\n",
    "# Add labels to the axes\n",
    "plt.title('Price Discount scater filtered LR')\n",
    "plt.xlabel('Price')\n",
    "plt.ylabel('Discount')\n",
    "\n",
    "plt.savefig('images/normal/Price Discount scater filtered LR.png', bbox_inches='tight')\n",
    "plt.savefig('images/transparent/Breakfast Cancelation filtered LR.png', bbox_inches='tight', transparent=True)\n",
    "\n",
    "# Show the plot\n",
    "plt.show()"
   ]
  },
  {
   "cell_type": "code",
   "execution_count": null,
   "id": "f055b742",
   "metadata": {},
   "outputs": [],
   "source": []
  },
  {
   "cell_type": "code",
   "execution_count": null,
   "id": "356bed29",
   "metadata": {},
   "outputs": [],
   "source": [
    "import pandas as pd\n",
    "import sklearn\n",
    "import numpy as np\n",
    "from sklearn.linear_model import LinearRegression\n",
    "from sklearn.model_selection import train_test_split, KFold\n",
    "from sklearn.metrics import r2_score\n",
    "import warnings\n",
    "warnings.filterwarnings(\"ignore\")"
   ]
  },
  {
   "cell_type": "code",
   "execution_count": null,
   "id": "e45f124d",
   "metadata": {},
   "outputs": [],
   "source": [
    "# use only numeric columns\n",
    "df = pd.read_csv('data/hotels-filtered.csv',  usecols=['Score', 'Review', 'Price', 'LocationScore',\n",
    "                                                'Breakfast', 'BookingAward', 'BookingScore', 'Cancelation'])"
   ]
  },
  {
   "cell_type": "code",
   "execution_count": null,
   "id": "60dd565b",
   "metadata": {},
   "outputs": [],
   "source": [
    "X = df.drop(columns=[\"Price\"])\n",
    "y = df.Price"
   ]
  },
  {
   "cell_type": "code",
   "execution_count": null,
   "id": "94b90812",
   "metadata": {},
   "outputs": [],
   "source": [
    "X_train, X_test, y_train, y_test = train_test_split(X, y, test_size=0.1, random_state=88)\n",
    "model = LinearRegression().fit(X_train, y_train)"
   ]
  },
  {
   "cell_type": "code",
   "execution_count": null,
   "id": "a5dc6e03",
   "metadata": {},
   "outputs": [],
   "source": [
    "y_pred = model.predict(X_test)\n",
    "r2 = r2_score(y_test, y_pred)\n",
    "print(f\" R^2 score:{r2}\")"
   ]
  },
  {
   "cell_type": "code",
   "execution_count": null,
   "id": "1609c078",
   "metadata": {},
   "outputs": [],
   "source": [
    "breakfastDict = {\"No\": 0, \"Only breakfast\": 1, \"breakfast&dinner\": 2, \"all meals\": 3}\n",
    "CancelationReplacmentDict = {\"Not allowed\": 0, \"allowd\": 1, \"allowd with no advance payment\": 2}\n",
    "BookingAwardReplacmentDict = {'Own': 0,'Not own': 1}\n",
    "\n",
    "from tkinter import *\n",
    "\n",
    "def calc():\n",
    "    try:\n",
    "        X = [int(value) for value in [ScoreVar.get(),\n",
    "                                      ReviewText.get(\"1.0\", \"end\")[:-1],\n",
    "                                      LocationVar.get(),\n",
    "                                      breakfastDict.get(BreakfastVar.get()),\n",
    "                                      BookingAwardReplacmentDict.get(BookingAwardVar.get()),\n",
    "                                      BookingScoreVar.get()[0],\n",
    "                                      CancelationReplacmentDict.get(CancelationVar.get())]]\n",
    "        y = model.predict([X])[0]\n",
    "        resultLabel['text'] = y\n",
    "    except Exception as e:\n",
    "        resultLabel['text'] = e\n",
    "        \n",
    "root = Tk()\n",
    "root.geometry(\"250x300\")\n",
    "for idx, att in enumerate(['Score', 'Review', 'LocationScore', 'Breakfast', 'BookingAward', 'BookingScore', 'Cancelation']):\n",
    "    Label(root, text=att).grid(row=idx, column=0)\n",
    "    \n",
    "resultLabel = Label(root)\n",
    "resultLabel.grid(row=8, column=1)\n",
    "\n",
    "ScoreVar = StringVar(root, value=\"Enter Score\")\n",
    "OptionMenu(root, ScoreVar, *[str(i) for i in range(1, 11)]).grid(row=0, column=1)\n",
    "\n",
    "ReviewText = Text(root, height=1, width=10)\n",
    "ReviewText.grid(row=1, column=1)\n",
    "\n",
    "LocationVar = StringVar(root, value=\"Enter location score\")\n",
    "OptionMenu(root, LocationVar, *[str(i) for i in range(1, 11)]).grid(row=2, column=1)\n",
    "\n",
    "BreakfastVar = StringVar(root, value=\"Enter if you want breakfast\")\n",
    "OptionMenu(root, BreakfastVar, *[\"No\", \"Only breakfast\", \"breakfast&dinner\", \"all meals\"]).grid(row=3, column=1)\n",
    "\n",
    "BookingAwardVar = StringVar(root, value=\"Enter booking award\")\n",
    "OptionMenu(root, BookingAwardVar, *[\"Own\", \"Not own\"]).grid(row=4, column=1)\n",
    "\n",
    "BookingScoreVar = StringVar(root, value=\"Enter desire booking score\")\n",
    "OptionMenu(root, BookingScoreVar, *[f\"{x}/5 stars\" for x in range(6)]).grid(row=5, column=1)\n",
    "\n",
    "CancelationVar = StringVar(root, value=\"Enter cancelation condition\")\n",
    "OptionMenu(root, CancelationVar, *[\"Not allowed\", \"allowd\", \"allowd with no advance payment\"]).grid(row=6, column=1)\n",
    "\n",
    "Button(root, text=\"Calculate\", command=calc).grid(row=8, column=0)\n",
    "root.mainloop()"
   ]
  }
 ],
 "metadata": {
  "kernelspec": {
   "display_name": "Python 3 (ipykernel)",
   "language": "python",
   "name": "python3"
  },
  "language_info": {
   "codemirror_mode": {
    "name": "ipython",
    "version": 3
   },
   "file_extension": ".py",
   "mimetype": "text/x-python",
   "name": "python",
   "nbconvert_exporter": "python",
   "pygments_lexer": "ipython3",
   "version": "3.10.9"
  }
 },
 "nbformat": 4,
 "nbformat_minor": 5
}
